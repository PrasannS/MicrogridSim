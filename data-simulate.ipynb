{
 "cells": [
  {
   "cell_type": "code",
   "execution_count": 1,
   "metadata": {},
   "outputs": [],
   "source": [
    "from __future__ import division\n",
    "from nilmtk.dataset_converters import convert_ampds\n",
    "from nilmtk import DataSet\n",
    "from nilmtk.utils import print_dict\n",
    "from pylab import rcParams\n",
    "#import simpy\n",
    "import random\n",
    "import statistics\n",
    "import pandas as pd\n",
    "import numpy as np\n",
    "import json\n",
    "import matplotlib.pyplot as plt\n",
    "\n"
   ]
  },
  {
   "cell_type": "code",
   "execution_count": 2,
   "metadata": {},
   "outputs": [],
   "source": [
    "def load_market_data():\n",
    "    for i in range(2, 20):\n",
    "        df = pd.DataFrame()\n",
    "        if(i>9):\n",
    "            df = df.append(\n",
    "                pd.read_csv('./data/energy_price/PUB_PriceHOEPPredispOR_20'+str(i)+'.csv', skiprows=3))\n",
    "        else: \n",
    "            df = df.append(\n",
    "                pd.read_csv('./data/energy_price/PUB_PriceHOEPPredispOR_200'+str(i)+'.csv', skiprows=3))\n",
    "        df = clean_market_data(df)\n",
    "    return df\n",
    "\n",
    "def clean_market_data(df):\n",
    "    try:\n",
    "        df['HOEP'] = pd.to_numeric(df['HOEP'].str.replace(',', ''))\n",
    "    except:\n",
    "        print(\"Already Number\")\n",
    "    return df\n",
    "\n",
    "def load_data():\n",
    "    ampds = DataSet(\"./data/load_profile/AMPds2.h5\")\n",
    "    dataset = {}\n",
    "    nam_map = {}\n",
    "    elec = ampds.buildings[1].elec\n",
    "    for item in range(1,20):\n",
    "        appl = elec.meters.__getitem__(item)\n",
    "        name = appl.appliances[0].metadata.get('original_name')\n",
    "        arr = []\n",
    "        for g in appl.load():\n",
    "            arr.append(g)\n",
    "        df = pd.DataFrame(arr[0])\n",
    "        df.columns = [ 'pf_ap', 'reactive', 'apparent', 'active']\n",
    "        dataset[name]= df\n",
    "        dataset[name+\"_INFO\"] = elec.meters.__getitem__(item).appliances[0].metadata\n",
    "    return dataset\n",
    "\n",
    "def weather_data():\n",
    "    climate = pd.read_csv('./data/load_profile/Climate_HourlyWeather.csv')\n",
    "    drop = ['Data Quality', 'Temp Flag', 'Dew Point Temp Flag', 'Wind Spd Flag', 'Stn Press Flag',\n",
    "          'Hmdx Flag', 'Wind Chill Flag', 'Wind Dir Flag', 'Rel Hum Flag', 'Visibility Flag']\n",
    "    climate = climate.drop(columns = drop, axis=1)\n",
    "    return climate\n",
    "\n"
   ]
  },
  {
   "cell_type": "code",
   "execution_count": 3,
   "metadata": {},
   "outputs": [],
   "source": [
    "ds = load_data()"
   ]
  },
  {
   "cell_type": "code",
   "execution_count": 10,
   "metadata": {
    "tags": []
   },
   "outputs": [
    {
     "output_type": "stream",
     "name": "stdout",
     "text": "1051200.0\n1038529\n"
    }
   ],
   "source": [
    "\n",
    "print(ds['TVE'].describe()['apparent']['count'] )\n",
    "print(ds['TVE'].astype(bool).sum(axis=0)['apparent'])"
   ]
  },
  {
   "cell_type": "code",
   "execution_count": null,
   "metadata": {
    "tags": []
   },
   "outputs": [],
   "source": [
    "def get_rands_from_data(inputdata, num):\n",
    "\n",
    "    print(inputdata)\n",
    "    data = inputdata.fillna(0)\n",
    "    hist, bins = np.histogram(data, bins=50)\n",
    "\n",
    "    bin_midpoints = bins[:-1] + np.diff(bins)/2\n",
    "    cdf = np.cumsum(hist)\n",
    "    cdf = cdf / cdf[-1]\n",
    "    values = np.random.rand(num)\n",
    "    value_bins = np.searchsorted(cdf, values)\n",
    "    random_from_cdf = bin_midpoints[value_bins]\n",
    "\n",
    "    plt.subplot(121)\n",
    "    plt.hist(data, 50)\n",
    "    plt.subplot(122)\n",
    "    plt.hist(random_from_cdf, 50)\n",
    "    plt.show()\n",
    "    print(random_from_cdf)"
   ]
  },
  {
   "cell_type": "code",
   "execution_count": 30,
   "metadata": {
    "tags": []
   },
   "outputs": [
    {
     "output_type": "stream",
     "name": "stdout",
     "text": "0        28.0\n1        17.0\n2        26.0\n3        39.0\n4        30.0\n         ... \n17515    21.0\n17516    14.0\n17517     7.0\n17518    10.0\n17519     4.0\nName: Wind Spd (km/h), Length: 17520, dtype: float64\n"
    },
    {
     "output_type": "display_data",
     "data": {
      "text/plain": "<Figure size 432x288 with 2 Axes>",
      "image/svg+xml": "<?xml version=\"1.0\" encoding=\"utf-8\" standalone=\"no\"?>\n<!DOCTYPE svg PUBLIC \"-//W3C//DTD SVG 1.1//EN\"\n  \"http://www.w3.org/Graphics/SVG/1.1/DTD/svg11.dtd\">\n<!-- Created with matplotlib (https://matplotlib.org/) -->\n<svg height=\"248.518125pt\" version=\"1.1\" viewBox=\"0 0 381.65 248.518125\" width=\"381.65pt\" xmlns=\"http://www.w3.org/2000/svg\" xmlns:xlink=\"http://www.w3.org/1999/xlink\">\n <defs>\n  <style type=\"text/css\">\n*{stroke-linecap:butt;stroke-linejoin:round;}\n  </style>\n </defs>\n <g id=\"figure_1\">\n  <g id=\"patch_1\">\n   <path d=\"M -0 248.518125 \nL 381.65 248.518125 \nL 381.65 0 \nL -0 0 \nz\n\" style=\"fill:none;\"/>\n  </g>\n  <g id=\"axes_1\">\n   <g id=\"patch_2\">\n    <path d=\"M 39.65 224.64 \nL 191.831818 224.64 \nL 191.831818 7.2 \nL 39.65 7.2 \nz\n\" style=\"fill:#ffffff;\"/>\n   </g>\n   <g id=\"patch_3\">\n    <path clip-path=\"url(#p12dd3ccd14)\" d=\"M 46.567355 224.64 \nL 49.334298 224.64 \nL 49.334298 122.889636 \nL 46.567355 122.889636 \nz\n\" style=\"fill:#1f77b4;\"/>\n   </g>\n   <g id=\"patch_4\">\n    <path clip-path=\"url(#p12dd3ccd14)\" d=\"M 49.334298 224.64 \nL 52.10124 224.64 \nL 52.10124 213.99048 \nL 49.334298 213.99048 \nz\n\" style=\"fill:#1f77b4;\"/>\n   </g>\n   <g id=\"patch_5\">\n    <path clip-path=\"url(#p12dd3ccd14)\" d=\"M 52.10124 224.64 \nL 54.868182 224.64 \nL 54.868182 197.752598 \nL 52.10124 197.752598 \nz\n\" style=\"fill:#1f77b4;\"/>\n   </g>\n   <g id=\"patch_6\">\n    <path clip-path=\"url(#p12dd3ccd14)\" d=\"M 54.868182 224.64 \nL 57.635124 224.64 \nL 57.635124 106.01911 \nL 54.868182 106.01911 \nz\n\" style=\"fill:#1f77b4;\"/>\n   </g>\n   <g id=\"patch_7\">\n    <path clip-path=\"url(#p12dd3ccd14)\" d=\"M 57.635124 224.64 \nL 60.402066 224.64 \nL 60.402066 82.505813 \nL 57.635124 82.505813 \nz\n\" style=\"fill:#1f77b4;\"/>\n   </g>\n   <g id=\"patch_8\">\n    <path clip-path=\"url(#p12dd3ccd14)\" d=\"M 60.402066 224.64 \nL 63.169008 224.64 \nL 63.169008 90.09755 \nL 60.402066 90.09755 \nz\n\" style=\"fill:#1f77b4;\"/>\n   </g>\n   <g id=\"patch_9\">\n    <path clip-path=\"url(#p12dd3ccd14)\" d=\"M 63.169008 224.64 \nL 65.93595 224.64 \nL 65.93595 179.089578 \nL 63.169008 179.089578 \nz\n\" style=\"fill:#1f77b4;\"/>\n   </g>\n   <g id=\"patch_10\">\n    <path clip-path=\"url(#p12dd3ccd14)\" d=\"M 65.93595 224.64 \nL 68.702893 224.64 \nL 68.702893 17.554286 \nL 65.93595 17.554286 \nz\n\" style=\"fill:#1f77b4;\"/>\n   </g>\n   <g id=\"patch_11\">\n    <path clip-path=\"url(#p12dd3ccd14)\" d=\"M 68.702893 224.64 \nL 71.469835 224.64 \nL 71.469835 77.233774 \nL 68.702893 77.233774 \nz\n\" style=\"fill:#1f77b4;\"/>\n   </g>\n   <g id=\"patch_12\">\n    <path clip-path=\"url(#p12dd3ccd14)\" d=\"M 71.469835 224.64 \nL 74.236777 224.64 \nL 74.236777 188.262927 \nL 71.469835 188.262927 \nz\n\" style=\"fill:#1f77b4;\"/>\n   </g>\n   <g id=\"patch_13\">\n    <path clip-path=\"url(#p12dd3ccd14)\" d=\"M 74.236777 224.64 \nL 77.003719 224.64 \nL 77.003719 78.709945 \nL 74.236777 78.709945 \nz\n\" style=\"fill:#1f77b4;\"/>\n   </g>\n   <g id=\"patch_14\">\n    <path clip-path=\"url(#p12dd3ccd14)\" d=\"M 77.003719 224.64 \nL 79.770661 224.64 \nL 79.770661 45.917859 \nL 77.003719 45.917859 \nz\n\" style=\"fill:#1f77b4;\"/>\n   </g>\n   <g id=\"patch_15\">\n    <path clip-path=\"url(#p12dd3ccd14)\" d=\"M 79.770661 224.64 \nL 82.537603 224.64 \nL 82.537603 205.133454 \nL 79.770661 205.133454 \nz\n\" style=\"fill:#1f77b4;\"/>\n   </g>\n   <g id=\"patch_16\">\n    <path clip-path=\"url(#p12dd3ccd14)\" d=\"M 82.537603 224.64 \nL 85.304545 224.64 \nL 85.304545 115.930544 \nL 82.537603 115.930544 \nz\n\" style=\"fill:#1f77b4;\"/>\n   </g>\n   <g id=\"patch_17\">\n    <path clip-path=\"url(#p12dd3ccd14)\" d=\"M 85.304545 224.64 \nL 88.071488 224.64 \nL 88.071488 199.33421 \nL 85.304545 199.33421 \nz\n\" style=\"fill:#1f77b4;\"/>\n   </g>\n   <g id=\"patch_18\">\n    <path clip-path=\"url(#p12dd3ccd14)\" d=\"M 88.071488 224.64 \nL 90.83843 224.64 \nL 90.83843 83.665662 \nL 88.071488 83.665662 \nz\n\" style=\"fill:#1f77b4;\"/>\n   </g>\n   <g id=\"patch_19\">\n    <path clip-path=\"url(#p12dd3ccd14)\" d=\"M 90.83843 224.64 \nL 93.605372 224.64 \nL 93.605372 210.089171 \nL 90.83843 210.089171 \nz\n\" style=\"fill:#1f77b4;\"/>\n   </g>\n   <g id=\"patch_20\">\n    <path clip-path=\"url(#p12dd3ccd14)\" d=\"M 93.605372 224.64 \nL 96.372314 224.64 \nL 96.372314 172.025045 \nL 93.605372 172.025045 \nz\n\" style=\"fill:#1f77b4;\"/>\n   </g>\n   <g id=\"patch_21\">\n    <path clip-path=\"url(#p12dd3ccd14)\" d=\"M 96.372314 224.64 \nL 99.139256 224.64 \nL 99.139256 215.25577 \nL 96.372314 215.25577 \nz\n\" style=\"fill:#1f77b4;\"/>\n   </g>\n   <g id=\"patch_22\">\n    <path clip-path=\"url(#p12dd3ccd14)\" d=\"M 99.139256 224.64 \nL 101.906198 224.64 \nL 101.906198 183.728973 \nL 99.139256 183.728973 \nz\n\" style=\"fill:#1f77b4;\"/>\n   </g>\n   <g id=\"patch_23\">\n    <path clip-path=\"url(#p12dd3ccd14)\" d=\"M 101.906198 224.64 \nL 104.67314 224.64 \nL 104.67314 196.69819 \nL 101.906198 196.69819 \nz\n\" style=\"fill:#1f77b4;\"/>\n   </g>\n   <g id=\"patch_24\">\n    <path clip-path=\"url(#p12dd3ccd14)\" d=\"M 104.67314 224.64 \nL 107.440083 224.64 \nL 107.440083 219.578842 \nL 104.67314 219.578842 \nz\n\" style=\"fill:#1f77b4;\"/>\n   </g>\n   <g id=\"patch_25\">\n    <path clip-path=\"url(#p12dd3ccd14)\" d=\"M 107.440083 224.64 \nL 110.207025 224.64 \nL 110.207025 201.864789 \nL 107.440083 201.864789 \nz\n\" style=\"fill:#1f77b4;\"/>\n   </g>\n   <g id=\"patch_26\">\n    <path clip-path=\"url(#p12dd3ccd14)\" d=\"M 110.207025 224.64 \nL 112.973967 224.64 \nL 112.973967 204.395368 \nL 110.207025 204.395368 \nz\n\" style=\"fill:#1f77b4;\"/>\n   </g>\n   <g id=\"patch_27\">\n    <path clip-path=\"url(#p12dd3ccd14)\" d=\"M 112.973967 224.64 \nL 115.740909 224.64 \nL 115.740909 221.793099 \nL 112.973967 221.793099 \nz\n\" style=\"fill:#1f77b4;\"/>\n   </g>\n   <g id=\"patch_28\">\n    <path clip-path=\"url(#p12dd3ccd14)\" d=\"M 115.740909 224.64 \nL 118.507851 224.64 \nL 118.507851 211.987105 \nL 115.740909 211.987105 \nz\n\" style=\"fill:#1f77b4;\"/>\n   </g>\n   <g id=\"patch_29\">\n    <path clip-path=\"url(#p12dd3ccd14)\" d=\"M 118.507851 224.64 \nL 121.274793 224.64 \nL 121.274793 212.197987 \nL 118.507851 212.197987 \nz\n\" style=\"fill:#1f77b4;\"/>\n   </g>\n   <g id=\"patch_30\">\n    <path clip-path=\"url(#p12dd3ccd14)\" d=\"M 121.274793 224.64 \nL 124.041736 224.64 \nL 124.041736 218.102671 \nL 121.274793 218.102671 \nz\n\" style=\"fill:#1f77b4;\"/>\n   </g>\n   <g id=\"patch_31\">\n    <path clip-path=\"url(#p12dd3ccd14)\" d=\"M 124.041736 224.64 \nL 126.808678 224.64 \nL 126.808678 222.636625 \nL 124.041736 222.636625 \nz\n\" style=\"fill:#1f77b4;\"/>\n   </g>\n   <g id=\"patch_32\">\n    <path clip-path=\"url(#p12dd3ccd14)\" d=\"M 126.808678 224.64 \nL 129.57562 224.64 \nL 129.57562 220.000605 \nL 126.808678 220.000605 \nz\n\" style=\"fill:#1f77b4;\"/>\n   </g>\n   <g id=\"patch_33\">\n    <path clip-path=\"url(#p12dd3ccd14)\" d=\"M 129.57562 224.64 \nL 132.342562 224.64 \nL 132.342562 218.524434 \nL 129.57562 218.524434 \nz\n\" style=\"fill:#1f77b4;\"/>\n   </g>\n   <g id=\"patch_34\">\n    <path clip-path=\"url(#p12dd3ccd14)\" d=\"M 132.342562 224.64 \nL 135.109504 224.64 \nL 135.109504 223.796474 \nL 132.342562 223.796474 \nz\n\" style=\"fill:#1f77b4;\"/>\n   </g>\n   <g id=\"patch_35\">\n    <path clip-path=\"url(#p12dd3ccd14)\" d=\"M 135.109504 224.64 \nL 137.876446 224.64 \nL 137.876446 221.687658 \nL 135.109504 221.687658 \nz\n\" style=\"fill:#1f77b4;\"/>\n   </g>\n   <g id=\"patch_36\">\n    <path clip-path=\"url(#p12dd3ccd14)\" d=\"M 137.876446 224.64 \nL 140.643388 224.64 \nL 140.643388 224.007355 \nL 137.876446 224.007355 \nz\n\" style=\"fill:#1f77b4;\"/>\n   </g>\n   <g id=\"patch_37\">\n    <path clip-path=\"url(#p12dd3ccd14)\" d=\"M 140.643388 224.64 \nL 143.410331 224.64 \nL 143.410331 221.265895 \nL 140.643388 221.265895 \nz\n\" style=\"fill:#1f77b4;\"/>\n   </g>\n   <g id=\"patch_38\">\n    <path clip-path=\"url(#p12dd3ccd14)\" d=\"M 143.410331 224.64 \nL 146.177273 224.64 \nL 146.177273 224.218237 \nL 143.410331 224.218237 \nz\n\" style=\"fill:#1f77b4;\"/>\n   </g>\n   <g id=\"patch_39\">\n    <path clip-path=\"url(#p12dd3ccd14)\" d=\"M 146.177273 224.64 \nL 148.944215 224.64 \nL 148.944215 222.742066 \nL 146.177273 222.742066 \nz\n\" style=\"fill:#1f77b4;\"/>\n   </g>\n   <g id=\"patch_40\">\n    <path clip-path=\"url(#p12dd3ccd14)\" d=\"M 148.944215 224.64 \nL 151.711157 224.64 \nL 151.711157 224.218237 \nL 148.944215 224.218237 \nz\n\" style=\"fill:#1f77b4;\"/>\n   </g>\n   <g id=\"patch_41\">\n    <path clip-path=\"url(#p12dd3ccd14)\" d=\"M 151.711157 224.64 \nL 154.478099 224.64 \nL 154.478099 223.26927 \nL 151.711157 223.26927 \nz\n\" style=\"fill:#1f77b4;\"/>\n   </g>\n   <g id=\"patch_42\">\n    <path clip-path=\"url(#p12dd3ccd14)\" d=\"M 154.478099 224.64 \nL 157.245041 224.64 \nL 157.245041 223.901914 \nL 154.478099 223.901914 \nz\n\" style=\"fill:#1f77b4;\"/>\n   </g>\n   <g id=\"patch_43\">\n    <path clip-path=\"url(#p12dd3ccd14)\" d=\"M 157.245041 224.64 \nL 160.011983 224.64 \nL 160.011983 224.429118 \nL 157.245041 224.429118 \nz\n\" style=\"fill:#1f77b4;\"/>\n   </g>\n   <g id=\"patch_44\">\n    <path clip-path=\"url(#p12dd3ccd14)\" d=\"M 160.011983 224.64 \nL 162.778926 224.64 \nL 162.778926 224.007355 \nL 160.011983 224.007355 \nz\n\" style=\"fill:#1f77b4;\"/>\n   </g>\n   <g id=\"patch_45\">\n    <path clip-path=\"url(#p12dd3ccd14)\" d=\"M 162.778926 224.64 \nL 165.545868 224.64 \nL 165.545868 223.480151 \nL 162.778926 223.480151 \nz\n\" style=\"fill:#1f77b4;\"/>\n   </g>\n   <g id=\"patch_46\">\n    <path clip-path=\"url(#p12dd3ccd14)\" d=\"M 165.545868 224.64 \nL 168.31281 224.64 \nL 168.31281 224.218237 \nL 165.545868 224.218237 \nz\n\" style=\"fill:#1f77b4;\"/>\n   </g>\n   <g id=\"patch_47\">\n    <path clip-path=\"url(#p12dd3ccd14)\" d=\"M 168.31281 224.64 \nL 171.079752 224.64 \nL 171.079752 224.323678 \nL 168.31281 224.323678 \nz\n\" style=\"fill:#1f77b4;\"/>\n   </g>\n   <g id=\"patch_48\">\n    <path clip-path=\"url(#p12dd3ccd14)\" d=\"M 171.079752 224.64 \nL 173.846694 224.64 \nL 173.846694 224.429118 \nL 171.079752 224.429118 \nz\n\" style=\"fill:#1f77b4;\"/>\n   </g>\n   <g id=\"patch_49\">\n    <path clip-path=\"url(#p12dd3ccd14)\" d=\"M 173.846694 224.64 \nL 176.613636 224.64 \nL 176.613636 224.429118 \nL 173.846694 224.429118 \nz\n\" style=\"fill:#1f77b4;\"/>\n   </g>\n   <g id=\"patch_50\">\n    <path clip-path=\"url(#p12dd3ccd14)\" d=\"M 176.613636 224.64 \nL 179.380579 224.64 \nL 179.380579 224.323678 \nL 176.613636 224.323678 \nz\n\" style=\"fill:#1f77b4;\"/>\n   </g>\n   <g id=\"patch_51\">\n    <path clip-path=\"url(#p12dd3ccd14)\" d=\"M 179.380579 224.64 \nL 182.147521 224.64 \nL 182.147521 224.429118 \nL 179.380579 224.429118 \nz\n\" style=\"fill:#1f77b4;\"/>\n   </g>\n   <g id=\"patch_52\">\n    <path clip-path=\"url(#p12dd3ccd14)\" d=\"M 182.147521 224.64 \nL 184.914463 224.64 \nL 184.914463 224.534559 \nL 182.147521 224.534559 \nz\n\" style=\"fill:#1f77b4;\"/>\n   </g>\n   <g id=\"matplotlib.axis_1\">\n    <g id=\"xtick_1\">\n     <g id=\"line2d_1\">\n      <defs>\n       <path d=\"M 0 0 \nL 0 3.5 \n\" id=\"m3464bbb193\" style=\"stroke:#000000;stroke-width:0.8;\"/>\n      </defs>\n      <g>\n       <use style=\"stroke:#000000;stroke-width:0.8;\" x=\"46.567355\" xlink:href=\"#m3464bbb193\" y=\"224.64\"/>\n      </g>\n     </g>\n     <g id=\"text_1\">\n      <!-- 0 -->\n      <defs>\n       <path d=\"M 31.78125 66.40625 \nQ 24.171875 66.40625 20.328125 58.90625 \nQ 16.5 51.421875 16.5 36.375 \nQ 16.5 21.390625 20.328125 13.890625 \nQ 24.171875 6.390625 31.78125 6.390625 \nQ 39.453125 6.390625 43.28125 13.890625 \nQ 47.125 21.390625 47.125 36.375 \nQ 47.125 51.421875 43.28125 58.90625 \nQ 39.453125 66.40625 31.78125 66.40625 \nz\nM 31.78125 74.21875 \nQ 44.046875 74.21875 50.515625 64.515625 \nQ 56.984375 54.828125 56.984375 36.375 \nQ 56.984375 17.96875 50.515625 8.265625 \nQ 44.046875 -1.421875 31.78125 -1.421875 \nQ 19.53125 -1.421875 13.0625 8.265625 \nQ 6.59375 17.96875 6.59375 36.375 \nQ 6.59375 54.828125 13.0625 64.515625 \nQ 19.53125 74.21875 31.78125 74.21875 \nz\n\" id=\"DejaVuSans-48\"/>\n      </defs>\n      <g transform=\"translate(43.386105 239.238438)scale(0.1 -0.1)\">\n       <use xlink:href=\"#DejaVuSans-48\"/>\n      </g>\n     </g>\n    </g>\n    <g id=\"xtick_2\">\n     <g id=\"line2d_2\">\n      <g>\n       <use style=\"stroke:#000000;stroke-width:0.8;\" x=\"90.487072\" xlink:href=\"#m3464bbb193\" y=\"224.64\"/>\n      </g>\n     </g>\n     <g id=\"text_2\">\n      <!-- 20 -->\n      <defs>\n       <path d=\"M 19.1875 8.296875 \nL 53.609375 8.296875 \nL 53.609375 0 \nL 7.328125 0 \nL 7.328125 8.296875 \nQ 12.9375 14.109375 22.625 23.890625 \nQ 32.328125 33.6875 34.8125 36.53125 \nQ 39.546875 41.84375 41.421875 45.53125 \nQ 43.3125 49.21875 43.3125 52.78125 \nQ 43.3125 58.59375 39.234375 62.25 \nQ 35.15625 65.921875 28.609375 65.921875 \nQ 23.96875 65.921875 18.8125 64.3125 \nQ 13.671875 62.703125 7.8125 59.421875 \nL 7.8125 69.390625 \nQ 13.765625 71.78125 18.9375 73 \nQ 24.125 74.21875 28.421875 74.21875 \nQ 39.75 74.21875 46.484375 68.546875 \nQ 53.21875 62.890625 53.21875 53.421875 \nQ 53.21875 48.921875 51.53125 44.890625 \nQ 49.859375 40.875 45.40625 35.40625 \nQ 44.1875 33.984375 37.640625 27.21875 \nQ 31.109375 20.453125 19.1875 8.296875 \nz\n\" id=\"DejaVuSans-50\"/>\n      </defs>\n      <g transform=\"translate(84.124572 239.238438)scale(0.1 -0.1)\">\n       <use xlink:href=\"#DejaVuSans-50\"/>\n       <use x=\"63.623047\" xlink:href=\"#DejaVuSans-48\"/>\n      </g>\n     </g>\n    </g>\n    <g id=\"xtick_3\">\n     <g id=\"line2d_3\">\n      <g>\n       <use style=\"stroke:#000000;stroke-width:0.8;\" x=\"134.406789\" xlink:href=\"#m3464bbb193\" y=\"224.64\"/>\n      </g>\n     </g>\n     <g id=\"text_3\">\n      <!-- 40 -->\n      <defs>\n       <path d=\"M 37.796875 64.3125 \nL 12.890625 25.390625 \nL 37.796875 25.390625 \nz\nM 35.203125 72.90625 \nL 47.609375 72.90625 \nL 47.609375 25.390625 \nL 58.015625 25.390625 \nL 58.015625 17.1875 \nL 47.609375 17.1875 \nL 47.609375 0 \nL 37.796875 0 \nL 37.796875 17.1875 \nL 4.890625 17.1875 \nL 4.890625 26.703125 \nz\n\" id=\"DejaVuSans-52\"/>\n      </defs>\n      <g transform=\"translate(128.044289 239.238438)scale(0.1 -0.1)\">\n       <use xlink:href=\"#DejaVuSans-52\"/>\n       <use x=\"63.623047\" xlink:href=\"#DejaVuSans-48\"/>\n      </g>\n     </g>\n    </g>\n    <g id=\"xtick_4\">\n     <g id=\"line2d_4\">\n      <g>\n       <use style=\"stroke:#000000;stroke-width:0.8;\" x=\"178.326505\" xlink:href=\"#m3464bbb193\" y=\"224.64\"/>\n      </g>\n     </g>\n     <g id=\"text_4\">\n      <!-- 60 -->\n      <defs>\n       <path d=\"M 33.015625 40.375 \nQ 26.375 40.375 22.484375 35.828125 \nQ 18.609375 31.296875 18.609375 23.390625 \nQ 18.609375 15.53125 22.484375 10.953125 \nQ 26.375 6.390625 33.015625 6.390625 \nQ 39.65625 6.390625 43.53125 10.953125 \nQ 47.40625 15.53125 47.40625 23.390625 \nQ 47.40625 31.296875 43.53125 35.828125 \nQ 39.65625 40.375 33.015625 40.375 \nz\nM 52.59375 71.296875 \nL 52.59375 62.3125 \nQ 48.875 64.0625 45.09375 64.984375 \nQ 41.3125 65.921875 37.59375 65.921875 \nQ 27.828125 65.921875 22.671875 59.328125 \nQ 17.53125 52.734375 16.796875 39.40625 \nQ 19.671875 43.65625 24.015625 45.921875 \nQ 28.375 48.1875 33.59375 48.1875 \nQ 44.578125 48.1875 50.953125 41.515625 \nQ 57.328125 34.859375 57.328125 23.390625 \nQ 57.328125 12.15625 50.6875 5.359375 \nQ 44.046875 -1.421875 33.015625 -1.421875 \nQ 20.359375 -1.421875 13.671875 8.265625 \nQ 6.984375 17.96875 6.984375 36.375 \nQ 6.984375 53.65625 15.1875 63.9375 \nQ 23.390625 74.21875 37.203125 74.21875 \nQ 40.921875 74.21875 44.703125 73.484375 \nQ 48.484375 72.75 52.59375 71.296875 \nz\n\" id=\"DejaVuSans-54\"/>\n      </defs>\n      <g transform=\"translate(171.964005 239.238438)scale(0.1 -0.1)\">\n       <use xlink:href=\"#DejaVuSans-54\"/>\n       <use x=\"63.623047\" xlink:href=\"#DejaVuSans-48\"/>\n      </g>\n     </g>\n    </g>\n   </g>\n   <g id=\"matplotlib.axis_2\">\n    <g id=\"ytick_1\">\n     <g id=\"line2d_5\">\n      <defs>\n       <path d=\"M 0 0 \nL -3.5 0 \n\" id=\"m78b8179090\" style=\"stroke:#000000;stroke-width:0.8;\"/>\n      </defs>\n      <g>\n       <use style=\"stroke:#000000;stroke-width:0.8;\" x=\"39.65\" xlink:href=\"#m78b8179090\" y=\"224.64\"/>\n      </g>\n     </g>\n     <g id=\"text_5\">\n      <!-- 0 -->\n      <g transform=\"translate(26.2875 228.439219)scale(0.1 -0.1)\">\n       <use xlink:href=\"#DejaVuSans-48\"/>\n      </g>\n     </g>\n    </g>\n    <g id=\"ytick_2\">\n     <g id=\"line2d_6\">\n      <g>\n       <use style=\"stroke:#000000;stroke-width:0.8;\" x=\"39.65\" xlink:href=\"#m78b8179090\" y=\"198.279802\"/>\n      </g>\n     </g>\n     <g id=\"text_6\">\n      <!-- 250 -->\n      <defs>\n       <path d=\"M 10.796875 72.90625 \nL 49.515625 72.90625 \nL 49.515625 64.59375 \nL 19.828125 64.59375 \nL 19.828125 46.734375 \nQ 21.96875 47.46875 24.109375 47.828125 \nQ 26.265625 48.1875 28.421875 48.1875 \nQ 40.625 48.1875 47.75 41.5 \nQ 54.890625 34.8125 54.890625 23.390625 \nQ 54.890625 11.625 47.5625 5.09375 \nQ 40.234375 -1.421875 26.90625 -1.421875 \nQ 22.3125 -1.421875 17.546875 -0.640625 \nQ 12.796875 0.140625 7.71875 1.703125 \nL 7.71875 11.625 \nQ 12.109375 9.234375 16.796875 8.0625 \nQ 21.484375 6.890625 26.703125 6.890625 \nQ 35.15625 6.890625 40.078125 11.328125 \nQ 45.015625 15.765625 45.015625 23.390625 \nQ 45.015625 31 40.078125 35.4375 \nQ 35.15625 39.890625 26.703125 39.890625 \nQ 22.75 39.890625 18.8125 39.015625 \nQ 14.890625 38.140625 10.796875 36.28125 \nz\n\" id=\"DejaVuSans-53\"/>\n      </defs>\n      <g transform=\"translate(13.5625 202.079021)scale(0.1 -0.1)\">\n       <use xlink:href=\"#DejaVuSans-50\"/>\n       <use x=\"63.623047\" xlink:href=\"#DejaVuSans-53\"/>\n       <use x=\"127.246094\" xlink:href=\"#DejaVuSans-48\"/>\n      </g>\n     </g>\n    </g>\n    <g id=\"ytick_3\">\n     <g id=\"line2d_7\">\n      <g>\n       <use style=\"stroke:#000000;stroke-width:0.8;\" x=\"39.65\" xlink:href=\"#m78b8179090\" y=\"171.919604\"/>\n      </g>\n     </g>\n     <g id=\"text_7\">\n      <!-- 500 -->\n      <g transform=\"translate(13.5625 175.718823)scale(0.1 -0.1)\">\n       <use xlink:href=\"#DejaVuSans-53\"/>\n       <use x=\"63.623047\" xlink:href=\"#DejaVuSans-48\"/>\n       <use x=\"127.246094\" xlink:href=\"#DejaVuSans-48\"/>\n      </g>\n     </g>\n    </g>\n    <g id=\"ytick_4\">\n     <g id=\"line2d_8\">\n      <g>\n       <use style=\"stroke:#000000;stroke-width:0.8;\" x=\"39.65\" xlink:href=\"#m78b8179090\" y=\"145.559406\"/>\n      </g>\n     </g>\n     <g id=\"text_8\">\n      <!-- 750 -->\n      <defs>\n       <path d=\"M 8.203125 72.90625 \nL 55.078125 72.90625 \nL 55.078125 68.703125 \nL 28.609375 0 \nL 18.3125 0 \nL 43.21875 64.59375 \nL 8.203125 64.59375 \nz\n\" id=\"DejaVuSans-55\"/>\n      </defs>\n      <g transform=\"translate(13.5625 149.358625)scale(0.1 -0.1)\">\n       <use xlink:href=\"#DejaVuSans-55\"/>\n       <use x=\"63.623047\" xlink:href=\"#DejaVuSans-53\"/>\n       <use x=\"127.246094\" xlink:href=\"#DejaVuSans-48\"/>\n      </g>\n     </g>\n    </g>\n    <g id=\"ytick_5\">\n     <g id=\"line2d_9\">\n      <g>\n       <use style=\"stroke:#000000;stroke-width:0.8;\" x=\"39.65\" xlink:href=\"#m78b8179090\" y=\"119.199209\"/>\n      </g>\n     </g>\n     <g id=\"text_9\">\n      <!-- 1000 -->\n      <defs>\n       <path d=\"M 12.40625 8.296875 \nL 28.515625 8.296875 \nL 28.515625 63.921875 \nL 10.984375 60.40625 \nL 10.984375 69.390625 \nL 28.421875 72.90625 \nL 38.28125 72.90625 \nL 38.28125 8.296875 \nL 54.390625 8.296875 \nL 54.390625 0 \nL 12.40625 0 \nz\n\" id=\"DejaVuSans-49\"/>\n      </defs>\n      <g transform=\"translate(7.2 122.998427)scale(0.1 -0.1)\">\n       <use xlink:href=\"#DejaVuSans-49\"/>\n       <use x=\"63.623047\" xlink:href=\"#DejaVuSans-48\"/>\n       <use x=\"127.246094\" xlink:href=\"#DejaVuSans-48\"/>\n       <use x=\"190.869141\" xlink:href=\"#DejaVuSans-48\"/>\n      </g>\n     </g>\n    </g>\n    <g id=\"ytick_6\">\n     <g id=\"line2d_10\">\n      <g>\n       <use style=\"stroke:#000000;stroke-width:0.8;\" x=\"39.65\" xlink:href=\"#m78b8179090\" y=\"92.839011\"/>\n      </g>\n     </g>\n     <g id=\"text_10\">\n      <!-- 1250 -->\n      <g transform=\"translate(7.2 96.63823)scale(0.1 -0.1)\">\n       <use xlink:href=\"#DejaVuSans-49\"/>\n       <use x=\"63.623047\" xlink:href=\"#DejaVuSans-50\"/>\n       <use x=\"127.246094\" xlink:href=\"#DejaVuSans-53\"/>\n       <use x=\"190.869141\" xlink:href=\"#DejaVuSans-48\"/>\n      </g>\n     </g>\n    </g>\n    <g id=\"ytick_7\">\n     <g id=\"line2d_11\">\n      <g>\n       <use style=\"stroke:#000000;stroke-width:0.8;\" x=\"39.65\" xlink:href=\"#m78b8179090\" y=\"66.478813\"/>\n      </g>\n     </g>\n     <g id=\"text_11\">\n      <!-- 1500 -->\n      <g transform=\"translate(7.2 70.278032)scale(0.1 -0.1)\">\n       <use xlink:href=\"#DejaVuSans-49\"/>\n       <use x=\"63.623047\" xlink:href=\"#DejaVuSans-53\"/>\n       <use x=\"127.246094\" xlink:href=\"#DejaVuSans-48\"/>\n       <use x=\"190.869141\" xlink:href=\"#DejaVuSans-48\"/>\n      </g>\n     </g>\n    </g>\n    <g id=\"ytick_8\">\n     <g id=\"line2d_12\">\n      <g>\n       <use style=\"stroke:#000000;stroke-width:0.8;\" x=\"39.65\" xlink:href=\"#m78b8179090\" y=\"40.118615\"/>\n      </g>\n     </g>\n     <g id=\"text_12\">\n      <!-- 1750 -->\n      <g transform=\"translate(7.2 43.917834)scale(0.1 -0.1)\">\n       <use xlink:href=\"#DejaVuSans-49\"/>\n       <use x=\"63.623047\" xlink:href=\"#DejaVuSans-55\"/>\n       <use x=\"127.246094\" xlink:href=\"#DejaVuSans-53\"/>\n       <use x=\"190.869141\" xlink:href=\"#DejaVuSans-48\"/>\n      </g>\n     </g>\n    </g>\n    <g id=\"ytick_9\">\n     <g id=\"line2d_13\">\n      <g>\n       <use style=\"stroke:#000000;stroke-width:0.8;\" x=\"39.65\" xlink:href=\"#m78b8179090\" y=\"13.758417\"/>\n      </g>\n     </g>\n     <g id=\"text_13\">\n      <!-- 2000 -->\n      <g transform=\"translate(7.2 17.557636)scale(0.1 -0.1)\">\n       <use xlink:href=\"#DejaVuSans-50\"/>\n       <use x=\"63.623047\" xlink:href=\"#DejaVuSans-48\"/>\n       <use x=\"127.246094\" xlink:href=\"#DejaVuSans-48\"/>\n       <use x=\"190.869141\" xlink:href=\"#DejaVuSans-48\"/>\n      </g>\n     </g>\n    </g>\n   </g>\n   <g id=\"patch_53\">\n    <path d=\"M 39.65 224.64 \nL 39.65 7.2 \n\" style=\"fill:none;stroke:#000000;stroke-linecap:square;stroke-linejoin:miter;stroke-width:0.8;\"/>\n   </g>\n   <g id=\"patch_54\">\n    <path d=\"M 191.831818 224.64 \nL 191.831818 7.2 \n\" style=\"fill:none;stroke:#000000;stroke-linecap:square;stroke-linejoin:miter;stroke-width:0.8;\"/>\n   </g>\n   <g id=\"patch_55\">\n    <path d=\"M 39.65 224.64 \nL 191.831818 224.64 \n\" style=\"fill:none;stroke:#000000;stroke-linecap:square;stroke-linejoin:miter;stroke-width:0.8;\"/>\n   </g>\n   <g id=\"patch_56\">\n    <path d=\"M 39.65 7.2 \nL 191.831818 7.2 \n\" style=\"fill:none;stroke:#000000;stroke-linecap:square;stroke-linejoin:miter;stroke-width:0.8;\"/>\n   </g>\n  </g>\n  <g id=\"axes_2\">\n   <g id=\"patch_57\">\n    <path d=\"M 222.268182 224.64 \nL 374.45 224.64 \nL 374.45 7.2 \nL 222.268182 7.2 \nz\n\" style=\"fill:#ffffff;\"/>\n   </g>\n   <g id=\"patch_58\">\n    <path clip-path=\"url(#pd9874f5ed6)\" d=\"M 229.185537 224.64 \nL 231.952479 224.64 \nL 231.952479 100.388571 \nL 229.185537 100.388571 \nz\n\" style=\"fill:#1f77b4;\"/>\n   </g>\n   <g id=\"patch_59\">\n    <path clip-path=\"url(#pd9874f5ed6)\" d=\"M 231.952479 224.64 \nL 234.719421 224.64 \nL 234.719421 212.214857 \nL 231.952479 212.214857 \nz\n\" style=\"fill:#1f77b4;\"/>\n   </g>\n   <g id=\"patch_60\">\n    <path clip-path=\"url(#pd9874f5ed6)\" d=\"M 234.719421 224.64 \nL 237.486364 224.64 \nL 237.486364 201.860571 \nL 234.719421 201.860571 \nz\n\" style=\"fill:#1f77b4;\"/>\n   </g>\n   <g id=\"patch_61\">\n    <path clip-path=\"url(#pd9874f5ed6)\" d=\"M 237.486364 224.64 \nL 240.253306 224.64 \nL 240.253306 90.034286 \nL 237.486364 90.034286 \nz\n\" style=\"fill:#1f77b4;\"/>\n   </g>\n   <g id=\"patch_62\">\n    <path clip-path=\"url(#pd9874f5ed6)\" d=\"M 240.253306 224.64 \nL 243.020248 224.64 \nL 243.020248 90.034286 \nL 240.253306 90.034286 \nz\n\" style=\"fill:#1f77b4;\"/>\n   </g>\n   <g id=\"patch_63\">\n    <path clip-path=\"url(#pd9874f5ed6)\" d=\"M 243.020248 224.64 \nL 245.78719 224.64 \nL 245.78719 224.64 \nL 243.020248 224.64 \nz\n\" style=\"fill:#1f77b4;\"/>\n   </g>\n   <g id=\"patch_64\">\n    <path clip-path=\"url(#pd9874f5ed6)\" d=\"M 245.78719 224.64 \nL 248.554132 224.64 \nL 248.554132 56.900571 \nL 245.78719 56.900571 \nz\n\" style=\"fill:#1f77b4;\"/>\n   </g>\n   <g id=\"patch_65\">\n    <path clip-path=\"url(#pd9874f5ed6)\" d=\"M 248.554132 224.64 \nL 251.321074 224.64 \nL 251.321074 172.868571 \nL 248.554132 172.868571 \nz\n\" style=\"fill:#1f77b4;\"/>\n   </g>\n   <g id=\"patch_66\">\n    <path clip-path=\"url(#pd9874f5ed6)\" d=\"M 251.321074 224.64 \nL 254.088017 224.64 \nL 254.088017 17.554286 \nL 251.321074 17.554286 \nz\n\" style=\"fill:#1f77b4;\"/>\n   </g>\n   <g id=\"patch_67\">\n    <path clip-path=\"url(#pd9874f5ed6)\" d=\"M 254.088017 224.64 \nL 256.854959 224.64 \nL 256.854959 54.829714 \nL 254.088017 54.829714 \nz\n\" style=\"fill:#1f77b4;\"/>\n   </g>\n   <g id=\"patch_68\">\n    <path clip-path=\"url(#pd9874f5ed6)\" d=\"M 256.854959 224.64 \nL 259.621901 224.64 \nL 259.621901 187.364571 \nL 256.854959 187.364571 \nz\n\" style=\"fill:#1f77b4;\"/>\n   </g>\n   <g id=\"patch_69\">\n    <path clip-path=\"url(#pd9874f5ed6)\" d=\"M 259.621901 224.64 \nL 262.388843 224.64 \nL 262.388843 224.64 \nL 259.621901 224.64 \nz\n\" style=\"fill:#1f77b4;\"/>\n   </g>\n   <g id=\"patch_70\">\n    <path clip-path=\"url(#pd9874f5ed6)\" d=\"M 262.388843 224.64 \nL 265.155785 224.64 \nL 265.155785 56.900571 \nL 262.388843 56.900571 \nz\n\" style=\"fill:#1f77b4;\"/>\n   </g>\n   <g id=\"patch_71\">\n    <path clip-path=\"url(#pd9874f5ed6)\" d=\"M 265.155785 224.64 \nL 267.922727 224.64 \nL 267.922727 19.625143 \nL 265.155785 19.625143 \nz\n\" style=\"fill:#1f77b4;\"/>\n   </g>\n   <g id=\"patch_72\">\n    <path clip-path=\"url(#pd9874f5ed6)\" d=\"M 267.922727 224.64 \nL 270.689669 224.64 \nL 270.689669 201.860571 \nL 267.922727 201.860571 \nz\n\" style=\"fill:#1f77b4;\"/>\n   </g>\n   <g id=\"patch_73\">\n    <path clip-path=\"url(#pd9874f5ed6)\" d=\"M 270.689669 224.64 \nL 273.456612 224.64 \nL 273.456612 108.672 \nL 270.689669 108.672 \nz\n\" style=\"fill:#1f77b4;\"/>\n   </g>\n   <g id=\"patch_74\">\n    <path clip-path=\"url(#pd9874f5ed6)\" d=\"M 273.456612 224.64 \nL 276.223554 224.64 \nL 276.223554 224.64 \nL 273.456612 224.64 \nz\n\" style=\"fill:#1f77b4;\"/>\n   </g>\n   <g id=\"patch_75\">\n    <path clip-path=\"url(#pd9874f5ed6)\" d=\"M 276.223554 224.64 \nL 278.990496 224.64 \nL 278.990496 193.577143 \nL 276.223554 193.577143 \nz\n\" style=\"fill:#1f77b4;\"/>\n   </g>\n   <g id=\"patch_76\">\n    <path clip-path=\"url(#pd9874f5ed6)\" d=\"M 278.990496 224.64 \nL 281.757438 224.64 \nL 281.757438 71.396571 \nL 278.990496 71.396571 \nz\n\" style=\"fill:#1f77b4;\"/>\n   </g>\n   <g id=\"patch_77\">\n    <path clip-path=\"url(#pd9874f5ed6)\" d=\"M 281.757438 224.64 \nL 284.52438 224.64 \nL 284.52438 206.002286 \nL 281.757438 206.002286 \nz\n\" style=\"fill:#1f77b4;\"/>\n   </g>\n   <g id=\"patch_78\">\n    <path clip-path=\"url(#pd9874f5ed6)\" d=\"M 284.52438 224.64 \nL 287.291322 224.64 \nL 287.291322 177.010286 \nL 284.52438 177.010286 \nz\n\" style=\"fill:#1f77b4;\"/>\n   </g>\n   <g id=\"patch_79\">\n    <path clip-path=\"url(#pd9874f5ed6)\" d=\"M 287.291322 224.64 \nL 290.058264 224.64 \nL 290.058264 212.214857 \nL 287.291322 212.214857 \nz\n\" style=\"fill:#1f77b4;\"/>\n   </g>\n   <g id=\"patch_80\">\n    <path clip-path=\"url(#pd9874f5ed6)\" d=\"M 290.058264 224.64 \nL 292.825207 224.64 \nL 292.825207 224.64 \nL 290.058264 224.64 \nz\n\" style=\"fill:#1f77b4;\"/>\n   </g>\n   <g id=\"patch_81\">\n    <path clip-path=\"url(#pd9874f5ed6)\" d=\"M 292.825207 224.64 \nL 295.592149 224.64 \nL 295.592149 185.293714 \nL 292.825207 185.293714 \nz\n\" style=\"fill:#1f77b4;\"/>\n   </g>\n   <g id=\"patch_82\">\n    <path clip-path=\"url(#pd9874f5ed6)\" d=\"M 295.592149 224.64 \nL 298.359091 224.64 \nL 298.359091 181.152 \nL 295.592149 181.152 \nz\n\" style=\"fill:#1f77b4;\"/>\n   </g>\n   <g id=\"patch_83\">\n    <path clip-path=\"url(#pd9874f5ed6)\" d=\"M 298.359091 224.64 \nL 301.126033 224.64 \nL 301.126033 218.427429 \nL 298.359091 218.427429 \nz\n\" style=\"fill:#1f77b4;\"/>\n   </g>\n   <g id=\"patch_84\">\n    <path clip-path=\"url(#pd9874f5ed6)\" d=\"M 301.126033 224.64 \nL 303.892975 224.64 \nL 303.892975 183.222857 \nL 301.126033 183.222857 \nz\n\" style=\"fill:#1f77b4;\"/>\n   </g>\n   <g id=\"patch_85\">\n    <path clip-path=\"url(#pd9874f5ed6)\" d=\"M 303.892975 224.64 \nL 306.659917 224.64 \nL 306.659917 224.64 \nL 303.892975 224.64 \nz\n\" style=\"fill:#1f77b4;\"/>\n   </g>\n   <g id=\"patch_86\">\n    <path clip-path=\"url(#pd9874f5ed6)\" d=\"M 306.659917 224.64 \nL 309.42686 224.64 \nL 309.42686 201.860571 \nL 306.659917 201.860571 \nz\n\" style=\"fill:#1f77b4;\"/>\n   </g>\n   <g id=\"patch_87\">\n    <path clip-path=\"url(#pd9874f5ed6)\" d=\"M 309.42686 224.64 \nL 312.193802 224.64 \nL 312.193802 224.64 \nL 309.42686 224.64 \nz\n\" style=\"fill:#1f77b4;\"/>\n   </g>\n   <g id=\"patch_88\">\n    <path clip-path=\"url(#pd9874f5ed6)\" d=\"M 312.193802 224.64 \nL 314.960744 224.64 \nL 314.960744 206.002286 \nL 312.193802 206.002286 \nz\n\" style=\"fill:#1f77b4;\"/>\n   </g>\n   <g id=\"patch_89\">\n    <path clip-path=\"url(#pd9874f5ed6)\" d=\"M 314.960744 224.64 \nL 317.727686 224.64 \nL 317.727686 206.002286 \nL 314.960744 206.002286 \nz\n\" style=\"fill:#1f77b4;\"/>\n   </g>\n   <g id=\"patch_90\">\n    <path clip-path=\"url(#pd9874f5ed6)\" d=\"M 317.727686 224.64 \nL 320.494628 224.64 \nL 320.494628 208.073143 \nL 317.727686 208.073143 \nz\n\" style=\"fill:#1f77b4;\"/>\n   </g>\n   <g id=\"patch_91\">\n    <path clip-path=\"url(#pd9874f5ed6)\" d=\"M 320.494628 224.64 \nL 323.26157 224.64 \nL 323.26157 224.64 \nL 320.494628 224.64 \nz\n\" style=\"fill:#1f77b4;\"/>\n   </g>\n   <g id=\"patch_92\">\n    <path clip-path=\"url(#pd9874f5ed6)\" d=\"M 323.26157 224.64 \nL 326.028512 224.64 \nL 326.028512 224.64 \nL 323.26157 224.64 \nz\n\" style=\"fill:#1f77b4;\"/>\n   </g>\n   <g id=\"patch_93\">\n    <path clip-path=\"url(#pd9874f5ed6)\" d=\"M 326.028512 224.64 \nL 328.795455 224.64 \nL 328.795455 220.498286 \nL 326.028512 220.498286 \nz\n\" style=\"fill:#1f77b4;\"/>\n   </g>\n   <g id=\"patch_94\">\n    <path clip-path=\"url(#pd9874f5ed6)\" d=\"M 328.795455 224.64 \nL 331.562397 224.64 \nL 331.562397 216.356571 \nL 328.795455 216.356571 \nz\n\" style=\"fill:#1f77b4;\"/>\n   </g>\n   <g id=\"patch_95\">\n    <path clip-path=\"url(#pd9874f5ed6)\" d=\"M 331.562397 224.64 \nL 334.329339 224.64 \nL 334.329339 224.64 \nL 331.562397 224.64 \nz\n\" style=\"fill:#1f77b4;\"/>\n   </g>\n   <g id=\"patch_96\">\n    <path clip-path=\"url(#pd9874f5ed6)\" d=\"M 334.329339 224.64 \nL 337.096281 224.64 \nL 337.096281 224.64 \nL 334.329339 224.64 \nz\n\" style=\"fill:#1f77b4;\"/>\n   </g>\n   <g id=\"patch_97\">\n    <path clip-path=\"url(#pd9874f5ed6)\" d=\"M 337.096281 224.64 \nL 339.863223 224.64 \nL 339.863223 220.498286 \nL 337.096281 220.498286 \nz\n\" style=\"fill:#1f77b4;\"/>\n   </g>\n   <g id=\"patch_98\">\n    <path clip-path=\"url(#pd9874f5ed6)\" d=\"M 339.863223 224.64 \nL 342.630165 224.64 \nL 342.630165 224.64 \nL 339.863223 224.64 \nz\n\" style=\"fill:#1f77b4;\"/>\n   </g>\n   <g id=\"patch_99\">\n    <path clip-path=\"url(#pd9874f5ed6)\" d=\"M 342.630165 224.64 \nL 345.397107 224.64 \nL 345.397107 222.569143 \nL 342.630165 222.569143 \nz\n\" style=\"fill:#1f77b4;\"/>\n   </g>\n   <g id=\"patch_100\">\n    <path clip-path=\"url(#pd9874f5ed6)\" d=\"M 345.397107 224.64 \nL 348.16405 224.64 \nL 348.16405 222.569143 \nL 345.397107 222.569143 \nz\n\" style=\"fill:#1f77b4;\"/>\n   </g>\n   <g id=\"patch_101\">\n    <path clip-path=\"url(#pd9874f5ed6)\" d=\"M 348.16405 224.64 \nL 350.930992 224.64 \nL 350.930992 222.569143 \nL 348.16405 222.569143 \nz\n\" style=\"fill:#1f77b4;\"/>\n   </g>\n   <g id=\"patch_102\">\n    <path clip-path=\"url(#pd9874f5ed6)\" d=\"M 350.930992 224.64 \nL 353.697934 224.64 \nL 353.697934 224.64 \nL 350.930992 224.64 \nz\n\" style=\"fill:#1f77b4;\"/>\n   </g>\n   <g id=\"patch_103\">\n    <path clip-path=\"url(#pd9874f5ed6)\" d=\"M 353.697934 224.64 \nL 356.464876 224.64 \nL 356.464876 224.64 \nL 353.697934 224.64 \nz\n\" style=\"fill:#1f77b4;\"/>\n   </g>\n   <g id=\"patch_104\">\n    <path clip-path=\"url(#pd9874f5ed6)\" d=\"M 356.464876 224.64 \nL 359.231818 224.64 \nL 359.231818 224.64 \nL 356.464876 224.64 \nz\n\" style=\"fill:#1f77b4;\"/>\n   </g>\n   <g id=\"patch_105\">\n    <path clip-path=\"url(#pd9874f5ed6)\" d=\"M 359.231818 224.64 \nL 361.99876 224.64 \nL 361.99876 224.64 \nL 359.231818 224.64 \nz\n\" style=\"fill:#1f77b4;\"/>\n   </g>\n   <g id=\"patch_106\">\n    <path clip-path=\"url(#pd9874f5ed6)\" d=\"M 361.99876 224.64 \nL 364.765702 224.64 \nL 364.765702 222.569143 \nL 361.99876 222.569143 \nz\n\" style=\"fill:#1f77b4;\"/>\n   </g>\n   <g id=\"patch_107\">\n    <path clip-path=\"url(#pd9874f5ed6)\" d=\"M 364.765702 224.64 \nL 367.532645 224.64 \nL 367.532645 222.569143 \nL 364.765702 222.569143 \nz\n\" style=\"fill:#1f77b4;\"/>\n   </g>\n   <g id=\"matplotlib.axis_3\">\n    <g id=\"xtick_5\">\n     <g id=\"line2d_14\">\n      <g>\n       <use style=\"stroke:#000000;stroke-width:0.8;\" x=\"227.498377\" xlink:href=\"#m3464bbb193\" y=\"224.64\"/>\n      </g>\n     </g>\n     <g id=\"text_14\">\n      <!-- 0 -->\n      <g transform=\"translate(224.317127 239.238438)scale(0.1 -0.1)\">\n       <use xlink:href=\"#DejaVuSans-48\"/>\n      </g>\n     </g>\n    </g>\n    <g id=\"xtick_6\">\n     <g id=\"line2d_15\">\n      <g>\n       <use style=\"stroke:#000000;stroke-width:0.8;\" x=\"281.059007\" xlink:href=\"#m3464bbb193\" y=\"224.64\"/>\n      </g>\n     </g>\n     <g id=\"text_15\">\n      <!-- 20 -->\n      <g transform=\"translate(274.696507 239.238438)scale(0.1 -0.1)\">\n       <use xlink:href=\"#DejaVuSans-50\"/>\n       <use x=\"63.623047\" xlink:href=\"#DejaVuSans-48\"/>\n      </g>\n     </g>\n    </g>\n    <g id=\"xtick_7\">\n     <g id=\"line2d_16\">\n      <g>\n       <use style=\"stroke:#000000;stroke-width:0.8;\" x=\"334.619637\" xlink:href=\"#m3464bbb193\" y=\"224.64\"/>\n      </g>\n     </g>\n     <g id=\"text_16\">\n      <!-- 40 -->\n      <g transform=\"translate(328.257137 239.238438)scale(0.1 -0.1)\">\n       <use xlink:href=\"#DejaVuSans-52\"/>\n       <use x=\"63.623047\" xlink:href=\"#DejaVuSans-48\"/>\n      </g>\n     </g>\n    </g>\n   </g>\n   <g id=\"matplotlib.axis_4\">\n    <g id=\"ytick_10\">\n     <g id=\"line2d_17\">\n      <g>\n       <use style=\"stroke:#000000;stroke-width:0.8;\" x=\"222.268182\" xlink:href=\"#m78b8179090\" y=\"224.64\"/>\n      </g>\n     </g>\n     <g id=\"text_17\">\n      <!-- 0 -->\n      <g transform=\"translate(208.905682 228.439219)scale(0.1 -0.1)\">\n       <use xlink:href=\"#DejaVuSans-48\"/>\n      </g>\n     </g>\n    </g>\n    <g id=\"ytick_11\">\n     <g id=\"line2d_18\">\n      <g>\n       <use style=\"stroke:#000000;stroke-width:0.8;\" x=\"222.268182\" xlink:href=\"#m78b8179090\" y=\"183.222857\"/>\n      </g>\n     </g>\n     <g id=\"text_18\">\n      <!-- 20 -->\n      <g transform=\"translate(202.543182 187.022076)scale(0.1 -0.1)\">\n       <use xlink:href=\"#DejaVuSans-50\"/>\n       <use x=\"63.623047\" xlink:href=\"#DejaVuSans-48\"/>\n      </g>\n     </g>\n    </g>\n    <g id=\"ytick_12\">\n     <g id=\"line2d_19\">\n      <g>\n       <use style=\"stroke:#000000;stroke-width:0.8;\" x=\"222.268182\" xlink:href=\"#m78b8179090\" y=\"141.805714\"/>\n      </g>\n     </g>\n     <g id=\"text_19\">\n      <!-- 40 -->\n      <g transform=\"translate(202.543182 145.604933)scale(0.1 -0.1)\">\n       <use xlink:href=\"#DejaVuSans-52\"/>\n       <use x=\"63.623047\" xlink:href=\"#DejaVuSans-48\"/>\n      </g>\n     </g>\n    </g>\n    <g id=\"ytick_13\">\n     <g id=\"line2d_20\">\n      <g>\n       <use style=\"stroke:#000000;stroke-width:0.8;\" x=\"222.268182\" xlink:href=\"#m78b8179090\" y=\"100.388571\"/>\n      </g>\n     </g>\n     <g id=\"text_20\">\n      <!-- 60 -->\n      <g transform=\"translate(202.543182 104.18779)scale(0.1 -0.1)\">\n       <use xlink:href=\"#DejaVuSans-54\"/>\n       <use x=\"63.623047\" xlink:href=\"#DejaVuSans-48\"/>\n      </g>\n     </g>\n    </g>\n    <g id=\"ytick_14\">\n     <g id=\"line2d_21\">\n      <g>\n       <use style=\"stroke:#000000;stroke-width:0.8;\" x=\"222.268182\" xlink:href=\"#m78b8179090\" y=\"58.971429\"/>\n      </g>\n     </g>\n     <g id=\"text_21\">\n      <!-- 80 -->\n      <defs>\n       <path d=\"M 31.78125 34.625 \nQ 24.75 34.625 20.71875 30.859375 \nQ 16.703125 27.09375 16.703125 20.515625 \nQ 16.703125 13.921875 20.71875 10.15625 \nQ 24.75 6.390625 31.78125 6.390625 \nQ 38.8125 6.390625 42.859375 10.171875 \nQ 46.921875 13.96875 46.921875 20.515625 \nQ 46.921875 27.09375 42.890625 30.859375 \nQ 38.875 34.625 31.78125 34.625 \nz\nM 21.921875 38.8125 \nQ 15.578125 40.375 12.03125 44.71875 \nQ 8.5 49.078125 8.5 55.328125 \nQ 8.5 64.0625 14.71875 69.140625 \nQ 20.953125 74.21875 31.78125 74.21875 \nQ 42.671875 74.21875 48.875 69.140625 \nQ 55.078125 64.0625 55.078125 55.328125 \nQ 55.078125 49.078125 51.53125 44.71875 \nQ 48 40.375 41.703125 38.8125 \nQ 48.828125 37.15625 52.796875 32.3125 \nQ 56.78125 27.484375 56.78125 20.515625 \nQ 56.78125 9.90625 50.3125 4.234375 \nQ 43.84375 -1.421875 31.78125 -1.421875 \nQ 19.734375 -1.421875 13.25 4.234375 \nQ 6.78125 9.90625 6.78125 20.515625 \nQ 6.78125 27.484375 10.78125 32.3125 \nQ 14.796875 37.15625 21.921875 38.8125 \nz\nM 18.3125 54.390625 \nQ 18.3125 48.734375 21.84375 45.5625 \nQ 25.390625 42.390625 31.78125 42.390625 \nQ 38.140625 42.390625 41.71875 45.5625 \nQ 45.3125 48.734375 45.3125 54.390625 \nQ 45.3125 60.0625 41.71875 63.234375 \nQ 38.140625 66.40625 31.78125 66.40625 \nQ 25.390625 66.40625 21.84375 63.234375 \nQ 18.3125 60.0625 18.3125 54.390625 \nz\n\" id=\"DejaVuSans-56\"/>\n      </defs>\n      <g transform=\"translate(202.543182 62.770647)scale(0.1 -0.1)\">\n       <use xlink:href=\"#DejaVuSans-56\"/>\n       <use x=\"63.623047\" xlink:href=\"#DejaVuSans-48\"/>\n      </g>\n     </g>\n    </g>\n    <g id=\"ytick_15\">\n     <g id=\"line2d_22\">\n      <g>\n       <use style=\"stroke:#000000;stroke-width:0.8;\" x=\"222.268182\" xlink:href=\"#m78b8179090\" y=\"17.554286\"/>\n      </g>\n     </g>\n     <g id=\"text_22\">\n      <!-- 100 -->\n      <g transform=\"translate(196.180682 21.353504)scale(0.1 -0.1)\">\n       <use xlink:href=\"#DejaVuSans-49\"/>\n       <use x=\"63.623047\" xlink:href=\"#DejaVuSans-48\"/>\n       <use x=\"127.246094\" xlink:href=\"#DejaVuSans-48\"/>\n      </g>\n     </g>\n    </g>\n   </g>\n   <g id=\"patch_108\">\n    <path d=\"M 222.268182 224.64 \nL 222.268182 7.2 \n\" style=\"fill:none;stroke:#000000;stroke-linecap:square;stroke-linejoin:miter;stroke-width:0.8;\"/>\n   </g>\n   <g id=\"patch_109\">\n    <path d=\"M 374.45 224.64 \nL 374.45 7.2 \n\" style=\"fill:none;stroke:#000000;stroke-linecap:square;stroke-linejoin:miter;stroke-width:0.8;\"/>\n   </g>\n   <g id=\"patch_110\">\n    <path d=\"M 222.268182 224.64 \nL 374.45 224.64 \n\" style=\"fill:none;stroke:#000000;stroke-linecap:square;stroke-linejoin:miter;stroke-width:0.8;\"/>\n   </g>\n   <g id=\"patch_111\">\n    <path d=\"M 222.268182 7.2 \nL 374.45 7.2 \n\" style=\"fill:none;stroke:#000000;stroke-linecap:square;stroke-linejoin:miter;stroke-width:0.8;\"/>\n   </g>\n  </g>\n </g>\n <defs>\n  <clipPath id=\"p12dd3ccd14\">\n   <rect height=\"217.44\" width=\"152.181818\" x=\"39.65\" y=\"7.2\"/>\n  </clipPath>\n  <clipPath id=\"pd9874f5ed6\">\n   <rect height=\"217.44\" width=\"152.181818\" x=\"222.268182\" y=\"7.2\"/>\n  </clipPath>\n </defs>\n</svg>\n",
      "image/png": "[encoded data removed]"
     },
     "metadata": {
      "needs_background": "light"
     }
    },
    {
     "output_type": "stream",
     "name": "stdout",
     "text": "[19.53 10.71 13.23 18.27  5.67 17.01  9.45 25.83 19.53 19.53 22.05  6.93\n  3.15 23.31 14.49 10.71  0.63 13.23  0.63 17.01 22.05  9.45 13.23 20.79\n 11.97  4.41  4.41  0.63  5.67 38.43 14.49 22.05 10.71 19.53 34.65 24.57\n  5.67  5.67 11.97 13.23  0.63  5.67  4.41  6.93 11.97  6.93 10.71 14.49\n  5.67 29.61 17.01 13.23 13.23  9.45 14.49 29.61  6.93 19.53  9.45  5.67\n 19.53 17.01  9.45  9.45  9.45 22.05  9.45  6.93 29.61 19.53  6.93  6.93\n 32.13  4.41  6.93 23.31 13.23 27.09 25.83  1.89  5.67 13.23 13.23  5.67\n 25.83  9.45  9.45 19.53 19.53  8.19  5.67 14.49  0.63 28.35  4.41 28.35\n  5.67  0.63 19.53 17.01 14.49  6.93  5.67 24.57 13.23 24.57  4.41  1.89\n 19.53  0.63 14.49  9.45  9.45  6.93  9.45  0.63 19.53 13.23 13.23  0.63\n 14.49  6.93 24.57  5.67  4.41  9.45 17.01 24.57  1.89 24.57 10.71 13.23\n 13.23 33.39  4.41  9.45 13.23 10.71 17.01  9.45  4.41 10.71 14.49  9.45\n  0.63  9.45 19.53 10.71 17.01 29.61 17.01 17.01  4.41  6.93 14.49 17.01\n 19.53 24.57 11.97 14.49 22.05  9.45  8.19 17.01  8.19  4.41 10.71 20.79\n 32.13  9.45  0.63  6.93 13.23  0.63  9.45 18.27  6.93 10.71 19.53 24.57\n 33.39  5.67 19.53  5.67 43.47  4.41  4.41 13.23 14.49  9.45  4.41 22.05\n 13.23 23.31 11.97 13.23 18.27  4.41 17.01 25.83 17.01  6.93  4.41  6.93\n  6.93 28.35  9.45 14.49 10.71 25.83  5.67  4.41  5.67 24.57 14.49  4.41\n  5.67 24.57 14.49  6.93  9.45  9.45  6.93  4.41 33.39 11.97  6.93  4.41\n 10.71  0.63  9.45 14.49  6.93 14.49 25.83 13.23 15.75 13.23 14.49 20.79\n 52.29 24.57 13.23 34.65 14.49  0.63 18.27  5.67  1.89 24.57 10.71  4.41\n  6.93 14.49 22.05  9.45 19.53  0.63  0.63 20.79  0.63 13.23 14.49 19.53\n 13.23 44.73 13.23 25.83 14.49  0.63  4.41 23.31 13.23  6.93 10.71 13.23\n 14.49  0.63 14.49 28.35 10.71 19.53  6.93 22.05 14.49  6.93 18.27 13.23\n 14.49 25.83  8.19  9.45  5.67  9.45  4.41  9.45 28.35  3.15 14.49 14.49\n 13.23 14.49  6.93  1.89 13.23  4.41 11.97 17.01 14.49  9.45 10.71 13.23\n 13.23  5.67 14.49  9.45 28.35 19.53 28.35  0.63  0.63  9.45 14.49  0.63\n 22.05 14.49 29.61 17.01 19.53  8.19 13.23 10.71  5.67 15.75 14.49  9.45\n  0.63 10.71 18.27 19.53  6.93  0.63 22.05 14.49 10.71 15.75  0.63 17.01\n 19.53  6.93  9.45  5.67  5.67 34.65  3.15  6.93 17.01 14.49  0.63 10.71\n  6.93 19.53 10.71  6.93 33.39 25.83 14.49  8.19 13.23  0.63  3.15  4.41\n  5.67  0.63 10.71 13.23 19.53  6.93 34.65  9.45 14.49 19.53  8.19  5.67\n  6.93 10.71 13.23 10.71  8.19  9.45 10.71 20.79  0.63 32.13 22.05 14.49\n 10.71 13.23 11.97 19.53  4.41 13.23 13.23 19.53 10.71 45.99 10.71  4.41\n  8.19  5.67 19.53 22.05 19.53  5.67  4.41 20.79  4.41 19.53 18.27  6.93\n 17.01 14.49  9.45  4.41  0.63  6.93  0.63 10.71  8.19 14.49 25.83  9.45\n  9.45 20.79  6.93  8.19 17.01 18.27 10.71 25.83 14.49  8.19 13.23 15.75\n 14.49 10.71 25.83  9.45 29.61 14.49 29.61 28.35  4.41  6.93 11.97  6.93\n 13.23 19.53 13.23  4.41 17.01 14.49 10.71 13.23 15.75 13.23  3.15 10.71\n  8.19 19.53 17.01 17.01 38.43  6.93 10.71 28.35 10.71 10.71 32.13  6.93\n 19.53  4.41  9.45 14.49 22.05 25.83 13.23  4.41  5.67  5.67 19.53 14.49\n 14.49 29.61 13.23 10.71 17.01  6.93 17.01 22.05 10.71 13.23 32.13  5.67\n 25.83  4.41  9.45  0.63 19.53  0.63 19.53 14.49 10.71  9.45  6.93  6.93\n  5.67 17.01 13.23 25.83  4.41  9.45 19.53 14.49  4.41 14.49  6.93 14.49\n 14.49 14.49  8.19  6.93 22.05 28.35  4.41 18.27 19.53 28.35 13.23 24.57\n  0.63  9.45 19.53  9.45  6.93  9.45 14.49  9.45  6.93 38.43 24.57  6.93\n 13.23 14.49  9.45 20.79  0.63 15.75 14.49 17.01  5.67 19.53 25.83  0.63\n 18.27 14.49 10.71 14.49  8.19 14.49  0.63 10.71 10.71 14.49  0.63  8.19\n 19.53 17.01 28.35  5.67  9.45  4.41 14.49  8.19 38.43  0.63  3.15  5.67\n 14.49  9.45 25.83 19.53 19.53 32.13  5.67  9.45  0.63 10.71 33.39  4.41\n 14.49  0.63 13.23  6.93  9.45 17.01 17.01  5.67 28.35  9.45 17.01 10.71\n  4.41 17.01 14.49  4.41  0.63 10.71  8.19 34.65 13.23  4.41 14.49 14.49\n  5.67 37.17 10.71  9.45 14.49 14.49 13.23  4.41  6.93  4.41 15.75 28.35\n 24.57 11.97  6.93 10.71  9.45 33.39 10.71  6.93 13.23  9.45  5.67  6.93\n 13.23  5.67  8.19  0.63  9.45 17.01  3.15 14.49 24.57  0.63 13.23  5.67\n 13.23 19.53 10.71 11.97  9.45  9.45 14.49 10.71 19.53  6.93 15.75 17.01\n 13.23 18.27 33.39  5.67  9.45 15.75 10.71 33.39  4.41 13.23 14.49  6.93\n 17.01 40.95 19.53 10.71 19.53 34.65 14.49 34.65 10.71  6.93  9.45 19.53\n  9.45 10.71 14.49  9.45 14.49  6.93 40.95 18.27  6.93 25.83 13.23 15.75\n  6.93 10.71  8.19 17.01  4.41 10.71  8.19  5.67 13.23 22.05  5.67 13.23\n  9.45  4.41 14.49  5.67 10.71 19.53 14.49 10.71 17.01  0.63 25.83  9.45\n 22.05 10.71 10.71  0.63  6.93 17.01 19.53 29.61  5.67 28.35 10.71 14.49\n 25.83  6.93 13.23  4.41 14.49  6.93  3.15 10.71 14.49 28.35  0.63 13.23\n  0.63  9.45 19.53  6.93 19.53 37.17  0.63 14.49 33.39 22.05 10.71 10.71\n  0.63 13.23 19.53  9.45  9.45 19.53  9.45  9.45 10.71 14.49 10.71  6.93\n  9.45  4.41  9.45 17.01  5.67 13.23  6.93  6.93  9.45  6.93  4.41  4.41\n 24.57  4.41  6.93 19.53 17.01 23.31 19.53 27.09 10.71 19.53 17.01 19.53\n 19.53  3.15  6.93 18.27  9.45 14.49  3.15  0.63 17.01 10.71  9.45  6.93\n  5.67  9.45  9.45 17.01  0.63  0.63  8.19  5.67 17.01 18.27  9.45  8.19\n 10.71  4.41  5.67  5.67 14.49 14.49 19.53  9.45  6.93  6.93  4.41 17.01\n 17.01 19.53 17.01  8.19 14.49  0.63 19.53 11.97 10.71 51.03 14.49 10.71\n  6.93 18.27 22.05 14.49 28.35  5.67 17.01 14.49 13.23  5.67  9.45 19.53\n 14.49 11.97  9.45  6.93 28.35  5.67 14.49  4.41 14.49  5.67 17.01 10.71\n  5.67 23.31  4.41 11.97 13.23 10.71 13.23  6.93 14.49 24.57  5.67  4.41\n 10.71  4.41 13.23  9.45 32.13 28.35 10.71 32.13  0.63  4.41 10.71  9.45\n 13.23 10.71 14.49 22.05  9.45  0.63  9.45 34.65 13.23 17.01  9.45 13.23\n 32.13  9.45  6.93 17.01 13.23 14.49 22.05  9.45 29.61  5.67  0.63 10.71\n  9.45 17.01 17.01  6.93 13.23 22.05  5.67  5.67 13.23  9.45 10.71 13.23\n  4.41 19.53  5.67 24.57  5.67 19.53  9.45 19.53 13.23 17.01 22.05 10.71\n 25.83 14.49 11.97  8.19 19.53  6.93  0.63 14.49 20.79 11.97  9.45  9.45\n  1.89 15.75  9.45  0.63 19.53 19.53  9.45 10.71 10.71 14.49  5.67 17.01\n  6.93  9.45 13.23 29.61  3.15  4.41 27.09 17.01  5.67  5.67  9.45 11.97\n 13.23 14.49 11.97  6.93  4.41 19.53  6.93  0.63 19.53  9.45  4.41 19.53\n 13.23 19.53  4.41 28.35]\n"
    }
   ],
   "source": [
    "test = weather_data()\n",
    "get_rands_from_data( test[\"Wind Spd (km/h)\"], 1000)"
   ]
  },
  {
   "cell_type": "code",
   "execution_count": 12,
   "metadata": {},
   "outputs": [],
   "source": [
    "class Meter(object):\n",
    "\n",
    "    load_distros = []\n",
    "    load_infos = []\n",
    "\n",
    "    #structure of load infos - \n",
    "    # - is_controllable\n",
    "    # - state_connection\n",
    "    # - time_triggers\n",
    "    #consumption of power by appliances on time step\n",
    "\n",
    "    loads = []\n",
    "    states = []\n",
    "    durations = []\n",
    "    state_targets = []\n",
    "\n",
    "    net_load = 0\n",
    "    #power_thresh = 200\n",
    "    \n",
    "    def __init__(self, json_path):\n",
    "        params = json.load(open(json_path))"
   ]
  },
  {
   "cell_type": "code",
   "execution_count": 13,
   "metadata": {},
   "outputs": [],
   "source": [
    "class House(object):\n",
    "    \n",
    "    controls = []\n",
    "    trigger_probs = []\n",
    "    duration_distros = []\n",
    "    \n",
    "    meter = Meter('house_params.json')\n",
    "    timestep = 0\n",
    "    \n",
    "    \n",
    "    def __init__(self, env, json_path):\n",
    "        self.env = env\n",
    "        print(str(params))\n",
    "        self.meter.meter = Meter(json_path)\n",
    "\n",
    "\n",
    "    def update_state(self):\n",
    "        infos = self.meter.load_infos\n",
    "        for i in range(0, infos):\n",
    "            #state connection is in format [effect when on, effect when off], 2 numbers\n",
    "            #TODO add in state initialization\n",
    "            if infos[i]['state_connection'][0]>0 and self.controls[i]:\n",
    "                self.meter.states[i]+=infos[i]['state_connection'][0]\n",
    "            else :\n",
    "                self.meter.states[i]+=infos[i]['state_connection'][1]\n",
    "\n",
    "            if self.meter.durations[i]>0:\n",
    "                self.meter.durations[i]-=1\n",
    "                if self.meter.durations[i]==0:\n",
    "                    self.controls[i]=False\n",
    "\n",
    "    def update_loads(self):\n",
    "        load=0 \n",
    "        infos = self.meter.load_infos\n",
    "        for i in range(0, infos):\n",
    "            if self.controls[i]:\n",
    "                self.meter.loads[i]=get_rands_from_data(self.meter.load_distros[i], 1)[0]\n",
    "\n",
    "    def time_triggers(self):\n",
    "        infos = self.meter.load_infos\n",
    "        for i in range(0, infos):\n",
    "            if infos[i]['time_triggers'] and self.controls[i] == False:\n",
    "                self.controls[i] = random.random()<self.meter.load_distros[i]\n",
    "                self.meter.durations[i] = get_rands_from_data(self.duration_distros[i], 1)[0]\n",
    "\n",
    "\n",
    "    #critical loads can be treated as 1 in this scenario    \n",
    "    def get_critical_load(self):\n",
    "        infos = self.meter.load_infos\n",
    "        crit_load = 0\n",
    "        for i in range(0, infos):\n",
    "            if infos[i]['is_controllable'] == False:\n",
    "                crit_load+=self.meter.loads[i]\n",
    "    \n",
    "    def get_control_loads(self):\n",
    "        infos = self.meter.load_infos\n",
    "        load = 0\n",
    "        for i in range(0, infos):\n",
    "            if infos[i]['is_controllable']:\n",
    "                load+=self.meter.loads[i]\n",
    "\n",
    "    \n",
    "    #important to call these 3 at least once before running simulation\n",
    "    def set_load_distros(self, distros):\n",
    "        self.meter.load_distros = distros\n",
    "\n",
    "    def set_dur_distros(self, distros):\n",
    "        self.duration_distros = distros\n",
    "\n",
    "    def set_trigger_probs(self, probs):\n",
    "        self.trigger_probs = probs\n",
    "\n",
    "    #performs all functions for a typical iteration\n",
    "    def run_load(self, timestep):\n",
    "        #print(\"Next\")\n",
    "        self.meter.net_load = 0\n",
    "        self.time_triggers()\n",
    "        self.update_loads()\n",
    "        self.meter.net_load+=self.get_critical_load()\n",
    "        self.meter.net_load+=self.get_control_loads()\n",
    "        self.update_state()\n",
    "        #print(\"LOAD IS\"+str(self.meter.net_load))\n",
    "        return self.meter.net_load\n",
    "\n",
    "\n",
    "    \n"
   ]
  },
  {
   "cell_type": "code",
   "execution_count": 7,
   "metadata": {},
   "outputs": [
    {
     "output_type": "error",
     "ename": "NameError",
     "evalue": "name 'House' is not defined",
     "traceback": [
      "\u001b[0;31m---------------------------------------------------------------------------\u001b[0m",
      "\u001b[0;31mNameError\u001b[0m                                 Traceback (most recent call last)",
      "\u001b[0;32m<ipython-input-7-b144ef68da37>\u001b[0m in \u001b[0;36mrun_simulation\u001b[0;34m(env, num_houses, renewable_sources, num_batteries)\u001b[0m\n\u001b[1;32m     21\u001b[0m     \u001b[0;32mfor\u001b[0m \u001b[0mi\u001b[0m \u001b[0;32min\u001b[0m \u001b[0mrange\u001b[0m\u001b[0;34m(\u001b[0m\u001b[0;36m0\u001b[0m\u001b[0;34m,\u001b[0m \u001b[0mnum_houses\u001b[0m\u001b[0;34m)\u001b[0m\u001b[0;34m:\u001b[0m\u001b[0;34m\u001b[0m\u001b[0;34m\u001b[0m\u001b[0m\n\u001b[0;32m---> 22\u001b[0;31m         \u001b[0mhouses\u001b[0m\u001b[0;34m.\u001b[0m\u001b[0mappend\u001b[0m\u001b[0;34m(\u001b[0m\u001b[0mHouse\u001b[0m\u001b[0;34m(\u001b[0m\u001b[0menv\u001b[0m\u001b[0;34m,\u001b[0m \u001b[0;34m'house_params.json'\u001b[0m\u001b[0;34m)\u001b[0m\u001b[0;34m)\u001b[0m\u001b[0;34m\u001b[0m\u001b[0;34m\u001b[0m\u001b[0m\n\u001b[0m\u001b[1;32m     23\u001b[0m \u001b[0;34m\u001b[0m\u001b[0m\n",
      "\u001b[0;31mNameError\u001b[0m: name 'House' is not defined",
      "\nThe above exception was the direct cause of the following exception:\n",
      "\u001b[0;31mNameError\u001b[0m                                 Traceback (most recent call last)",
      "\u001b[0;32m<ipython-input-7-b144ef68da37>\u001b[0m in \u001b[0;36m<module>\u001b[0;34m\u001b[0m\n\u001b[1;32m     80\u001b[0m \u001b[0;34m\u001b[0m\u001b[0m\n\u001b[1;32m     81\u001b[0m \u001b[0;32mif\u001b[0m \u001b[0m__name__\u001b[0m \u001b[0;34m==\u001b[0m \u001b[0;34m'__main__'\u001b[0m\u001b[0;34m:\u001b[0m\u001b[0;34m\u001b[0m\u001b[0;34m\u001b[0m\u001b[0m\n\u001b[0;32m---> 82\u001b[0;31m     \u001b[0mmain\u001b[0m\u001b[0;34m(\u001b[0m\u001b[0;34m)\u001b[0m\u001b[0;34m\u001b[0m\u001b[0;34m\u001b[0m\u001b[0m\n\u001b[0m",
      "\u001b[0;32m<ipython-input-7-b144ef68da37>\u001b[0m in \u001b[0;36mmain\u001b[0;34m()\u001b[0m\n\u001b[1;32m     76\u001b[0m     \u001b[0menv\u001b[0m\u001b[0;34m.\u001b[0m\u001b[0mprocess\u001b[0m\u001b[0;34m(\u001b[0m\u001b[0mrun_simulation\u001b[0m\u001b[0;34m(\u001b[0m\u001b[0menv\u001b[0m\u001b[0;34m,\u001b[0m \u001b[0;36m10\u001b[0m\u001b[0;34m,\u001b[0m \u001b[0;36m4\u001b[0m\u001b[0;34m,\u001b[0m \u001b[0;36m1\u001b[0m\u001b[0;34m)\u001b[0m\u001b[0;34m)\u001b[0m\u001b[0;34m\u001b[0m\u001b[0;34m\u001b[0m\u001b[0m\n\u001b[1;32m     77\u001b[0m     \u001b[0;31m#Seconds to run the simulation\u001b[0m\u001b[0;34m\u001b[0m\u001b[0;34m\u001b[0m\u001b[0;34m\u001b[0m\u001b[0m\n\u001b[0;32m---> 78\u001b[0;31m     \u001b[0menv\u001b[0m\u001b[0;34m.\u001b[0m\u001b[0mrun\u001b[0m\u001b[0;34m(\u001b[0m\u001b[0muntil\u001b[0m\u001b[0;34m=\u001b[0m\u001b[0;36m86400\u001b[0m\u001b[0;34m)\u001b[0m\u001b[0;34m\u001b[0m\u001b[0;34m\u001b[0m\u001b[0m\n\u001b[0m\u001b[1;32m     79\u001b[0m \u001b[0;34m\u001b[0m\u001b[0m\n\u001b[1;32m     80\u001b[0m \u001b[0;34m\u001b[0m\u001b[0m\n",
      "\u001b[0;32m~/anaconda3/lib/python3.7/site-packages/simpy/core.py\u001b[0m in \u001b[0;36mrun\u001b[0;34m(self, until)\u001b[0m\n\u001b[1;32m    252\u001b[0m         \u001b[0;32mtry\u001b[0m\u001b[0;34m:\u001b[0m\u001b[0;34m\u001b[0m\u001b[0;34m\u001b[0m\u001b[0m\n\u001b[1;32m    253\u001b[0m             \u001b[0;32mwhile\u001b[0m \u001b[0;32mTrue\u001b[0m\u001b[0;34m:\u001b[0m\u001b[0;34m\u001b[0m\u001b[0;34m\u001b[0m\u001b[0m\n\u001b[0;32m--> 254\u001b[0;31m                 \u001b[0mself\u001b[0m\u001b[0;34m.\u001b[0m\u001b[0mstep\u001b[0m\u001b[0;34m(\u001b[0m\u001b[0;34m)\u001b[0m\u001b[0;34m\u001b[0m\u001b[0;34m\u001b[0m\u001b[0m\n\u001b[0m\u001b[1;32m    255\u001b[0m         \u001b[0;32mexcept\u001b[0m \u001b[0mStopSimulation\u001b[0m \u001b[0;32mas\u001b[0m \u001b[0mexc\u001b[0m\u001b[0;34m:\u001b[0m\u001b[0;34m\u001b[0m\u001b[0;34m\u001b[0m\u001b[0m\n\u001b[1;32m    256\u001b[0m             \u001b[0;32mreturn\u001b[0m \u001b[0mexc\u001b[0m\u001b[0;34m.\u001b[0m\u001b[0margs\u001b[0m\u001b[0;34m[\u001b[0m\u001b[0;36m0\u001b[0m\u001b[0;34m]\u001b[0m  \u001b[0;31m# == until.value\u001b[0m\u001b[0;34m\u001b[0m\u001b[0;34m\u001b[0m\u001b[0m\n",
      "\u001b[0;32m~/anaconda3/lib/python3.7/site-packages/simpy/core.py\u001b[0m in \u001b[0;36mstep\u001b[0;34m(self)\u001b[0m\n\u001b[1;32m    204\u001b[0m             \u001b[0mexc\u001b[0m \u001b[0;34m=\u001b[0m \u001b[0mtype\u001b[0m\u001b[0;34m(\u001b[0m\u001b[0mevent\u001b[0m\u001b[0;34m.\u001b[0m\u001b[0m_value\u001b[0m\u001b[0;34m)\u001b[0m\u001b[0;34m(\u001b[0m\u001b[0;34m*\u001b[0m\u001b[0mevent\u001b[0m\u001b[0;34m.\u001b[0m\u001b[0m_value\u001b[0m\u001b[0;34m.\u001b[0m\u001b[0margs\u001b[0m\u001b[0;34m)\u001b[0m\u001b[0;34m\u001b[0m\u001b[0;34m\u001b[0m\u001b[0m\n\u001b[1;32m    205\u001b[0m             \u001b[0mexc\u001b[0m\u001b[0;34m.\u001b[0m\u001b[0m__cause__\u001b[0m \u001b[0;34m=\u001b[0m \u001b[0mevent\u001b[0m\u001b[0;34m.\u001b[0m\u001b[0m_value\u001b[0m\u001b[0;34m\u001b[0m\u001b[0;34m\u001b[0m\u001b[0m\n\u001b[0;32m--> 206\u001b[0;31m             \u001b[0;32mraise\u001b[0m \u001b[0mexc\u001b[0m\u001b[0;34m\u001b[0m\u001b[0;34m\u001b[0m\u001b[0m\n\u001b[0m\u001b[1;32m    207\u001b[0m \u001b[0;34m\u001b[0m\u001b[0m\n\u001b[1;32m    208\u001b[0m     def run(\n",
      "\u001b[0;31mNameError\u001b[0m: name 'House' is not defined"
     ]
    }
   ],
   "source": [
    "total_load =  0\n",
    "timestep = 0\n",
    "ren_power = 0\n",
    "#replace with probabilistic model sampling\n",
    "total_cost = 0\n",
    "\n",
    "def run_grid_loads(env, loads):\n",
    "\n",
    "    global total_load\n",
    "    total_load= 0\n",
    "    \n",
    "    for l in loads:\n",
    "        total_load+=l.run_load()\n",
    "    \n",
    "    return total_load\n",
    "\n",
    "\n",
    "def run_simulation(env, num_houses, renewable_sources, num_batteries):\n",
    "    global timestep\n",
    "    houses = []\n",
    "    for i in range(0, num_houses):\n",
    "        houses.append(House(env, 'house_params.json'))\n",
    "\n",
    "    while True:\n",
    "        yield env.timeout(1)  # Wait a bit before generating a new person\n",
    "        timestep += 1\n",
    "        if timestep%60==0:\n",
    "            update_price()\n",
    "            update_weather()\n",
    "        run_grid_loads(env, houses)\n",
    "        #print(get_power(renewable_sources))\n",
    "\n",
    "\n",
    "\n",
    "def get_power(rens):\n",
    "    global ren_power\n",
    "    global total_cost\n",
    "    ren_power = 0\n",
    "    #would likely get renewables probabilistic cost at this time\n",
    "    for i in range(0, rens):\n",
    "        ren_power+=random.randint(220, 290)\n",
    "    \n",
    "    if total_load<=ren_power:\n",
    "        total_cost -= (ren_power-total_load)*energy_price\n",
    "    else:\n",
    "        total_cost -= (ren_power-total_load)*energy_price\n",
    "    \n",
    "    return total_cost\n",
    "\n",
    "market_params = {}\n",
    "weather_params = {}\n",
    "\n",
    "weather_predictions = []\n",
    "market_predictions = []\n",
    "weather_pred_depth = 10\n",
    "market_pred_depth = 24\n",
    "\n",
    "#TODO add in some noise to the prediction \"models\"\n",
    "def update_weather():\n",
    "    global timestep\n",
    "    weather = weather_data()\n",
    "    weather_params = weather.iloc[timestep/60]\n",
    "\n",
    "    weather_predictions = weather.iloc[timestep/60:timestep/60+weather_pred_depth]\n",
    "    print(weather_params)\n",
    "    \n",
    "#performed every hour\n",
    "def update_price():\n",
    "    global timestep\n",
    "    market = load_market_data()\n",
    "    market_params = market.iloc[timestep/60]\n",
    "    energy_price = market_params['HOEP']\n",
    "    market_predictions = weather.iloc[timestep/60:timestep/60+market_pred_depth]\n",
    "    print(market_params)\n",
    "\n",
    "def main():\n",
    "    # Setup\n",
    "    random.seed(42)\n",
    "\n",
    "    # Run the simulation\n",
    "    env = simpy.Environment()\n",
    "    env.process(run_simulation(env, 10, 4, 1))\n",
    "    #Seconds to run the simulation\n",
    "    env.run(until=86400)\n",
    "\n",
    "\n",
    "if __name__ == '__main__':\n",
    "    main()"
   ]
  },
  {
   "cell_type": "code",
   "execution_count": 4,
   "metadata": {},
   "outputs": [
    {
     "output_type": "execute_result",
     "data": {
      "text/plain": "\"\\n1 week of simulation with 10 loads takes roughly 22-23 seconds on my computer\\n1 day with 10 loads takes roughly 3 seconds\\n\\nWith the current buy / sell model (no battery) the price either skews to the left \\nor the right, so it's a bit tougher to make highly consistent\\n\\nAC stays almost consistently on to maintain exact temperature, but if pushed to degree\\nor a smaller precision power / ac time can be saved significantly\\n\\nLoad modelling seems to be relatively functional. Controls will be maintained for only \\nsections of the load modelling, such as AC, Heat Pump, and Fridge\\n    - based on the AMPdS dataset these are actually a substantial portion of the load\\n    \\nTweaking seemingly does a lot to save on loads\\n\\n\""
     },
     "metadata": {},
     "execution_count": 4
    }
   ],
   "source": [
    "#Measurements / Observations\n",
    "# \n",
    "'''\n",
    "1 week of simulation with 10 loads takes roughly 22-23 seconds on my computer\n",
    "1 day with 10 loads takes roughly 3 seconds\n",
    "\n",
    "With the current buy / sell model (no battery) the price either skews to the left \n",
    "or the right, so it's a bit tougher to make highly consistent\n",
    "\n",
    "AC stays almost consistently on to maintain exact temperature, but if pushed to degree\n",
    "or a smaller precision power / ac time can be saved significantly\n",
    "\n",
    "Load modelling seems to be relatively functional. Controls will be maintained for only \n",
    "sections of the load modelling, such as AC, Heat Pump, and Fridge\n",
    "    - based on the AMPdS dataset these are actually a substantial portion of the load\n",
    "    \n",
    "Tweaking seemingly does a lot to save on loads\n",
    "\n",
    "''' "
   ]
  },
  {
   "cell_type": "code",
   "execution_count": 14,
   "metadata": {},
   "outputs": [],
   "source": [
    "\n"
   ]
  },
  {
   "cell_type": "code",
   "execution_count": 6,
   "metadata": {
    "tags": []
   },
   "outputs": [
    {
     "output_type": "error",
     "ename": "NameError",
     "evalue": "name 'update_weather' is not defined",
     "traceback": [
      "\u001b[0;31m---------------------------------------------------------------------------\u001b[0m",
      "\u001b[0;31mNameError\u001b[0m                                 Traceback (most recent call last)",
      "\u001b[0;32m<ipython-input-6-93bc16fbdde5>\u001b[0m in \u001b[0;36m<module>\u001b[0;34m\u001b[0m\n\u001b[0;32m----> 1\u001b[0;31m \u001b[0mupdate_weather\u001b[0m\u001b[0;34m(\u001b[0m\u001b[0;34m)\u001b[0m\u001b[0;34m\u001b[0m\u001b[0;34m\u001b[0m\u001b[0m\n\u001b[0m",
      "\u001b[0;31mNameError\u001b[0m: name 'update_weather' is not defined"
     ]
    }
   ],
   "source": [
    "update_weather()"
   ]
  },
  {
   "cell_type": "code",
   "execution_count": null,
   "metadata": {},
   "outputs": [],
   "source": []
  },
  {
   "cell_type": "code",
   "execution_count": null,
   "metadata": {},
   "outputs": [],
   "source": []
  }
 ],
 "metadata": {
  "kernelspec": {
   "display_name": "Python 3.6.10 64-bit ('nilmtk-env': conda)",
   "language": "python",
   "name": "python_defaultSpec_1596552818585"
  },
  "language_info": {
   "codemirror_mode": {
    "name": "ipython",
    "version": 3
   },
   "file_extension": ".py",
   "mimetype": "text/x-python",
   "name": "python",
   "nbconvert_exporter": "python",
   "pygments_lexer": "ipython3",
   "version": "3.6.10-final"
  },
  "toc": {
   "base_numbering": 1,
   "nav_menu": {},
   "number_sections": true,
   "sideBar": true,
   "skip_h1_title": false,
   "title_cell": "Table of Contents",
   "title_sidebar": "Contents",
   "toc_cell": false,
   "toc_position": {},
   "toc_section_display": true,
   "toc_window_display": false
  },
  "varInspector": {
   "cols": {
    "lenName": 16,
    "lenType": 16,
    "lenVar": 40
   },
   "kernels_config": {
    "python": {
     "delete_cmd_postfix": "",
     "delete_cmd_prefix": "del ",
     "library": "var_list.py",
     "varRefreshCmd": "print(var_dic_list())"
    },
    "r": {
     "delete_cmd_postfix": ") ",
     "delete_cmd_prefix": "rm(",
     "library": "var_list.r",
     "varRefreshCmd": "cat(var_dic_list()) "
    }
   },
   "types_to_exclude": [
    "module",
    "function",
    "builtin_function_or_method",
    "instance",
    "_Feature"
   ],
   "window_display": false
  }
 },
 "nbformat": 4,
 "nbformat_minor": 2
}