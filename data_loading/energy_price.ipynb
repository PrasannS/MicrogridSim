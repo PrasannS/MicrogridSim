{
 "cells": [
  {
   "cell_type": "code",
   "execution_count": 2,
   "metadata": {},
   "outputs": [],
   "source": [
    "import pandas as pd\n",
    "import numpy as np\n"
   ]
  },
  {
   "cell_type": "code",
   "execution_count": 3,
   "metadata": {},
   "outputs": [],
   "source": [
    "def load_data():\n",
    "    for i in range(2, 20):\n",
    "        df = pd.DataFrame()\n",
    "        if(i>9):\n",
    "            df = df.append(\n",
    "                pd.read_csv('../data/energy_price/PUB_PriceHOEPPredispOR_20'+str(i)+'.csv', skiprows=3))\n",
    "        else: \n",
    "            df = df.append(\n",
    "                pd.read_csv('../data/energy_price/PUB_PriceHOEPPredispOR_200'+str(i)+'.csv', skiprows=3))\n",
    "        df = clean_data(df)\n",
    "    return df\n",
    "\n",
    "def clean_data(df):\n",
    "    try:\n",
    "        df['HOEP'] = pd.to_numeric(df['HOEP'].str.replace(',', ''))\n",
    "    except:\n",
    "        print(\"Already Number\")\n",
    "    return df"
   ]
  },
  {
   "cell_type": "code",
   "execution_count": 4,
   "metadata": {},
   "outputs": [
    {
     "name": "stdout",
     "output_type": "stream",
     "text": [
      "Already Number\n",
      "Already Number\n",
      "Already Number\n",
      "Already Number\n",
      "Already Number\n",
      "Already Number\n",
      "Already Number\n",
      "Already Number\n",
      "Already Number\n",
      "Already Number\n",
      "Already Number\n",
      "Already Number\n",
      "Already Number\n",
      "Already Number\n"
     ]
    }
   ],
   "source": [
    "first = load_data()"
   ]
  },
  {
   "cell_type": "code",
   "execution_count": 5,
   "metadata": {},
   "outputs": [
    {
     "data": {
      "text/plain": [
       "10.718273972602736"
      ]
     },
     "execution_count": 5,
     "metadata": {},
     "output_type": "execute_result"
    }
   ],
   "source": [
    "np.mean(pd.to_numeric(first.loc[first['Hour']==1]['HOEP']))"
   ]
  },
  {
   "cell_type": "code",
   "execution_count": 6,
   "metadata": {},
   "outputs": [],
   "source": [
    "def get_hour_stats(df, num):\n",
    "    return np.mean(df.loc[first['Hour']==num]['HOEP']), np.std(df.loc[first['Hour']==num]['HOEP'])"
   ]
  },
  {
   "cell_type": "code",
   "execution_count": 7,
   "metadata": {},
   "outputs": [
    {
     "name": "stdout",
     "output_type": "stream",
     "text": [
      "(10.718273972602736, 15.111764374164975)\n",
      "(9.455753424657528, 13.308578294212085)\n",
      "(8.504684931506846, 12.369171851744646)\n",
      "(8.584602739726023, 13.042182528862122)\n",
      "(8.018109589041092, 11.834504022874896)\n",
      "(10.04164383561643, 12.520867164780501)\n",
      "(14.577342465753427, 15.348653050732441)\n",
      "(22.41021917808219, 54.013056153308476)\n",
      "(22.558383561643833, 56.546490625366474)\n",
      "(20.901178082191763, 32.10223856801696)\n",
      "(20.614821917808193, 21.127046660258127)\n",
      "(18.217424657534245, 16.129971573336757)\n",
      "(17.40013698630137, 14.942157946254758)\n",
      "(16.34912328767122, 12.97689659582648)\n",
      "(16.637835616438355, 13.50171650073163)\n",
      "(17.826849315068483, 13.431763363739174)\n",
      "(21.88613698630137, 17.563587196643837)\n",
      "(23.791808219178087, 19.939613810756814)\n",
      "(25.067205479452063, 26.15987593439586)\n",
      "(23.03158904109589, 17.649933825663233)\n",
      "(20.874794520547937, 16.317566491075034)\n",
      "(17.2415616438356, 12.940224936100801)\n",
      "(14.037945205479458, 12.41287327338465)\n"
     ]
    }
   ],
   "source": [
    "#mean and std by hour for energy price\n",
    "for i in range(1, 24):\n",
    "    print(get_hour_stats(first, i))"
   ]
  },
  {
   "cell_type": "code",
   "execution_count": 10,
   "metadata": {},
   "outputs": [
    {
     "data": {
      "text/html": [
       "<div>\n",
       "<style scoped>\n",
       "    .dataframe tbody tr th:only-of-type {\n",
       "        vertical-align: middle;\n",
       "    }\n",
       "\n",
       "    .dataframe tbody tr th {\n",
       "        vertical-align: top;\n",
       "    }\n",
       "\n",
       "    .dataframe thead th {\n",
       "        text-align: right;\n",
       "    }\n",
       "</style>\n",
       "<table border=\"1\" class=\"dataframe\">\n",
       "  <thead>\n",
       "    <tr style=\"text-align: right;\">\n",
       "      <th></th>\n",
       "      <th>Date</th>\n",
       "      <th>Hour</th>\n",
       "      <th>HOEP</th>\n",
       "      <th>Hour 1 Predispatch</th>\n",
       "      <th>Hour 2 Predispatch</th>\n",
       "      <th>Hour 3 Predispatch</th>\n",
       "      <th>OR 10 Min Sync</th>\n",
       "      <th>OR 10 Min non-sync</th>\n",
       "      <th>OR 30 Min</th>\n",
       "    </tr>\n",
       "  </thead>\n",
       "  <tbody>\n",
       "    <tr>\n",
       "      <td>0</td>\n",
       "      <td>2019-01-01</td>\n",
       "      <td>1</td>\n",
       "      <td>0.00</td>\n",
       "      <td>0.00</td>\n",
       "      <td>0.00</td>\n",
       "      <td>-0.02</td>\n",
       "      <td>1.24</td>\n",
       "      <td>0.20</td>\n",
       "      <td>0.1</td>\n",
       "    </tr>\n",
       "    <tr>\n",
       "      <td>1</td>\n",
       "      <td>2019-01-01</td>\n",
       "      <td>2</td>\n",
       "      <td>0.00</td>\n",
       "      <td>0.00</td>\n",
       "      <td>0.00</td>\n",
       "      <td>-0.02</td>\n",
       "      <td>1.23</td>\n",
       "      <td>0.19</td>\n",
       "      <td>0.1</td>\n",
       "    </tr>\n",
       "    <tr>\n",
       "      <td>2</td>\n",
       "      <td>2019-01-01</td>\n",
       "      <td>3</td>\n",
       "      <td>-0.11</td>\n",
       "      <td>-0.13</td>\n",
       "      <td>-0.13</td>\n",
       "      <td>-0.25</td>\n",
       "      <td>1.25</td>\n",
       "      <td>0.19</td>\n",
       "      <td>0.1</td>\n",
       "    </tr>\n",
       "    <tr>\n",
       "      <td>3</td>\n",
       "      <td>2019-01-01</td>\n",
       "      <td>4</td>\n",
       "      <td>-1.84</td>\n",
       "      <td>-2.13</td>\n",
       "      <td>-3.00</td>\n",
       "      <td>-2.13</td>\n",
       "      <td>1.25</td>\n",
       "      <td>0.19</td>\n",
       "      <td>0.1</td>\n",
       "    </tr>\n",
       "    <tr>\n",
       "      <td>4</td>\n",
       "      <td>2019-01-01</td>\n",
       "      <td>5</td>\n",
       "      <td>-0.47</td>\n",
       "      <td>-0.13</td>\n",
       "      <td>-3.00</td>\n",
       "      <td>-3.00</td>\n",
       "      <td>1.25</td>\n",
       "      <td>0.19</td>\n",
       "      <td>0.1</td>\n",
       "    </tr>\n",
       "  </tbody>\n",
       "</table>\n",
       "</div>"
      ],
      "text/plain": [
       "         Date  Hour  HOEP  Hour 1 Predispatch  Hour 2 Predispatch  \\\n",
       "0  2019-01-01     1  0.00                0.00                0.00   \n",
       "1  2019-01-01     2  0.00                0.00                0.00   \n",
       "2  2019-01-01     3 -0.11               -0.13               -0.13   \n",
       "3  2019-01-01     4 -1.84               -2.13               -3.00   \n",
       "4  2019-01-01     5 -0.47               -0.13               -3.00   \n",
       "\n",
       "   Hour 3 Predispatch  OR 10 Min Sync  OR 10 Min non-sync  OR 30 Min  \n",
       "0               -0.02            1.24                0.20        0.1  \n",
       "1               -0.02            1.23                0.19        0.1  \n",
       "2               -0.25            1.25                0.19        0.1  \n",
       "3               -2.13            1.25                0.19        0.1  \n",
       "4               -3.00            1.25                0.19        0.1  "
      ]
     },
     "execution_count": 10,
     "metadata": {},
     "output_type": "execute_result"
    }
   ],
   "source": [
    "first.head()"
   ]
  },
  {
   "cell_type": "code",
   "execution_count": 13,
   "metadata": {},
   "outputs": [
    {
     "data": {
      "text/html": [
       "<div>\n",
       "<style scoped>\n",
       "    .dataframe tbody tr th:only-of-type {\n",
       "        vertical-align: middle;\n",
       "    }\n",
       "\n",
       "    .dataframe tbody tr th {\n",
       "        vertical-align: top;\n",
       "    }\n",
       "\n",
       "    .dataframe thead th {\n",
       "        text-align: right;\n",
       "    }\n",
       "</style>\n",
       "<table border=\"1\" class=\"dataframe\">\n",
       "  <thead>\n",
       "    <tr style=\"text-align: right;\">\n",
       "      <th></th>\n",
       "      <th>Hour</th>\n",
       "      <th>HOEP</th>\n",
       "      <th>Hour 1 Predispatch</th>\n",
       "      <th>Hour 2 Predispatch</th>\n",
       "      <th>Hour 3 Predispatch</th>\n",
       "      <th>OR 10 Min Sync</th>\n",
       "      <th>OR 10 Min non-sync</th>\n",
       "      <th>OR 30 Min</th>\n",
       "    </tr>\n",
       "  </thead>\n",
       "  <tbody>\n",
       "    <tr>\n",
       "      <td>count</td>\n",
       "      <td>8760.000000</td>\n",
       "      <td>8760.000000</td>\n",
       "      <td>8739.000000</td>\n",
       "      <td>8739.000000</td>\n",
       "      <td>8739.000000</td>\n",
       "      <td>8760.000000</td>\n",
       "      <td>8760.000000</td>\n",
       "      <td>8760.000000</td>\n",
       "    </tr>\n",
       "    <tr>\n",
       "      <td>mean</td>\n",
       "      <td>12.500000</td>\n",
       "      <td>16.715850</td>\n",
       "      <td>18.643486</td>\n",
       "      <td>18.151833</td>\n",
       "      <td>17.889567</td>\n",
       "      <td>6.394514</td>\n",
       "      <td>5.764514</td>\n",
       "      <td>4.204703</td>\n",
       "    </tr>\n",
       "    <tr>\n",
       "      <td>std</td>\n",
       "      <td>6.922582</td>\n",
       "      <td>23.550614</td>\n",
       "      <td>27.611937</td>\n",
       "      <td>22.241228</td>\n",
       "      <td>14.650236</td>\n",
       "      <td>18.204363</td>\n",
       "      <td>17.961848</td>\n",
       "      <td>16.285921</td>\n",
       "    </tr>\n",
       "    <tr>\n",
       "      <td>min</td>\n",
       "      <td>1.000000</td>\n",
       "      <td>-59.290000</td>\n",
       "      <td>-50.000000</td>\n",
       "      <td>-5.000000</td>\n",
       "      <td>-15.000000</td>\n",
       "      <td>0.100000</td>\n",
       "      <td>0.100000</td>\n",
       "      <td>0.010000</td>\n",
       "    </tr>\n",
       "    <tr>\n",
       "      <td>25%</td>\n",
       "      <td>6.750000</td>\n",
       "      <td>3.017500</td>\n",
       "      <td>5.840000</td>\n",
       "      <td>5.850000</td>\n",
       "      <td>5.770000</td>\n",
       "      <td>0.410000</td>\n",
       "      <td>0.200000</td>\n",
       "      <td>0.200000</td>\n",
       "    </tr>\n",
       "    <tr>\n",
       "      <td>50%</td>\n",
       "      <td>12.500000</td>\n",
       "      <td>14.360000</td>\n",
       "      <td>18.490000</td>\n",
       "      <td>18.380000</td>\n",
       "      <td>18.850000</td>\n",
       "      <td>1.270000</td>\n",
       "      <td>0.430000</td>\n",
       "      <td>0.380000</td>\n",
       "    </tr>\n",
       "    <tr>\n",
       "      <td>75%</td>\n",
       "      <td>18.250000</td>\n",
       "      <td>25.560000</td>\n",
       "      <td>26.290000</td>\n",
       "      <td>26.180000</td>\n",
       "      <td>26.460000</td>\n",
       "      <td>8.102500</td>\n",
       "      <td>6.457500</td>\n",
       "      <td>4.112500</td>\n",
       "    </tr>\n",
       "    <tr>\n",
       "      <td>max</td>\n",
       "      <td>24.000000</td>\n",
       "      <td>1028.520000</td>\n",
       "      <td>2000.000000</td>\n",
       "      <td>1500.000000</td>\n",
       "      <td>230.170000</td>\n",
       "      <td>925.910000</td>\n",
       "      <td>925.910000</td>\n",
       "      <td>925.820000</td>\n",
       "    </tr>\n",
       "  </tbody>\n",
       "</table>\n",
       "</div>"
      ],
      "text/plain": [
       "              Hour         HOEP  Hour 1 Predispatch  Hour 2 Predispatch  \\\n",
       "count  8760.000000  8760.000000         8739.000000         8739.000000   \n",
       "mean     12.500000    16.715850           18.643486           18.151833   \n",
       "std       6.922582    23.550614           27.611937           22.241228   \n",
       "min       1.000000   -59.290000          -50.000000           -5.000000   \n",
       "25%       6.750000     3.017500            5.840000            5.850000   \n",
       "50%      12.500000    14.360000           18.490000           18.380000   \n",
       "75%      18.250000    25.560000           26.290000           26.180000   \n",
       "max      24.000000  1028.520000         2000.000000         1500.000000   \n",
       "\n",
       "       Hour 3 Predispatch  OR 10 Min Sync  OR 10 Min non-sync    OR 30 Min  \n",
       "count         8739.000000     8760.000000         8760.000000  8760.000000  \n",
       "mean            17.889567        6.394514            5.764514     4.204703  \n",
       "std             14.650236       18.204363           17.961848    16.285921  \n",
       "min            -15.000000        0.100000            0.100000     0.010000  \n",
       "25%              5.770000        0.410000            0.200000     0.200000  \n",
       "50%             18.850000        1.270000            0.430000     0.380000  \n",
       "75%             26.460000        8.102500            6.457500     4.112500  \n",
       "max            230.170000      925.910000          925.910000   925.820000  "
      ]
     },
     "execution_count": 13,
     "metadata": {},
     "output_type": "execute_result"
    }
   ],
   "source": [
    "first[first.columns].describe()"
   ]
  },
  {
   "cell_type": "code",
   "execution_count": 25,
   "metadata": {},
   "outputs": [
    {
     "name": "stdout",
     "output_type": "stream",
     "text": [
      "not numeric\n"
     ]
    },
    {
     "data": {
      "image/png": "[encoded data removed]",
      "text/plain": [
       "<Figure size 432x288 with 1 Axes>"
      ]
     },
     "metadata": {
      "needs_background": "light"
     },
     "output_type": "display_data"
    },
    {
     "data": {
      "image/png": "[encoded data removed]",
      "text/plain": [
       "<Figure size 432x288 with 1 Axes>"
      ]
     },
     "metadata": {
      "needs_background": "light"
     },
     "output_type": "display_data"
    },
    {
     "data": {
      "image/png": "[encoded data removed]",
      "text/plain": [
       "<Figure size 432x288 with 1 Axes>"
      ]
     },
     "metadata": {
      "needs_background": "light"
     },
     "output_type": "display_data"
    },
    {
     "data": {
      "image/png": "[encoded data removed]",
      "text/plain": [
       "<Figure size 432x288 with 1 Axes>"
      ]
     },
     "metadata": {
      "needs_background": "light"
     },
     "output_type": "display_data"
    },
    {
     "data": {
      "image/png": "[encoded data removed]",
      "text/plain": [
       "<Figure size 432x288 with 1 Axes>"
      ]
     },
     "metadata": {
      "needs_background": "light"
     },
     "output_type": "display_data"
    },
    {
     "data": {
      "image/png": "[encoded data removed]",
      "text/plain": [
       "<Figure size 432x288 with 1 Axes>"
      ]
     },
     "metadata": {
      "needs_background": "light"
     },
     "output_type": "display_data"
    },
    {
     "data": {
      "image/png": "[encoded data removed]",
      "text/plain": [
       "<Figure size 432x288 with 1 Axes>"
      ]
     },
     "metadata": {
      "needs_background": "light"
     },
     "output_type": "display_data"
    },
    {
     "data": {
      "image/png": "[encoded data removed]",
      "text/plain": [
       "<Figure size 432x288 with 1 Axes>"
      ]
     },
     "metadata": {
      "needs_background": "light"
     },
     "output_type": "display_data"
    }
   ],
   "source": [
    "for c in first.columns:\n",
    "    try:\n",
    "        first[[c]].plot.hist(bins = 50, title = c)\n",
    "    except:\n",
    "        print(\"not numeric\")"
   ]
  },
  {
   "cell_type": "code",
   "execution_count": 22,
   "metadata": {},
   "outputs": [
    {
     "data": {
      "text/html": [
       "<style  type=\"text/css\" >\n",
       "    #T_d51e91fc_d4c1_11ea_9898_317dbb54e21crow0_col0 {\n",
       "            background-color:  #b40426;\n",
       "            color:  #f1f1f1;\n",
       "        }    #T_d51e91fc_d4c1_11ea_9898_317dbb54e21crow0_col1 {\n",
       "            background-color:  #3b4cc0;\n",
       "            color:  #f1f1f1;\n",
       "        }    #T_d51e91fc_d4c1_11ea_9898_317dbb54e21crow0_col2 {\n",
       "            background-color:  #5b7ae5;\n",
       "            color:  #000000;\n",
       "        }    #T_d51e91fc_d4c1_11ea_9898_317dbb54e21crow0_col3 {\n",
       "            background-color:  #688aef;\n",
       "            color:  #000000;\n",
       "        }    #T_d51e91fc_d4c1_11ea_9898_317dbb54e21crow0_col4 {\n",
       "            background-color:  #88abfd;\n",
       "            color:  #000000;\n",
       "        }    #T_d51e91fc_d4c1_11ea_9898_317dbb54e21crow0_col5 {\n",
       "            background-color:  #5875e1;\n",
       "            color:  #000000;\n",
       "        }    #T_d51e91fc_d4c1_11ea_9898_317dbb54e21crow0_col6 {\n",
       "            background-color:  #5572df;\n",
       "            color:  #000000;\n",
       "        }    #T_d51e91fc_d4c1_11ea_9898_317dbb54e21crow0_col7 {\n",
       "            background-color:  #4e68d8;\n",
       "            color:  #000000;\n",
       "        }    #T_d51e91fc_d4c1_11ea_9898_317dbb54e21crow1_col0 {\n",
       "            background-color:  #4c66d6;\n",
       "            color:  #000000;\n",
       "        }    #T_d51e91fc_d4c1_11ea_9898_317dbb54e21crow1_col1 {\n",
       "            background-color:  #b40426;\n",
       "            color:  #f1f1f1;\n",
       "        }    #T_d51e91fc_d4c1_11ea_9898_317dbb54e21crow1_col2 {\n",
       "            background-color:  #9fbfff;\n",
       "            color:  #000000;\n",
       "        }    #T_d51e91fc_d4c1_11ea_9898_317dbb54e21crow1_col3 {\n",
       "            background-color:  #b2ccfb;\n",
       "            color:  #000000;\n",
       "        }    #T_d51e91fc_d4c1_11ea_9898_317dbb54e21crow1_col4 {\n",
       "            background-color:  #e2dad5;\n",
       "            color:  #000000;\n",
       "        }    #T_d51e91fc_d4c1_11ea_9898_317dbb54e21crow1_col5 {\n",
       "            background-color:  #f7bca1;\n",
       "            color:  #000000;\n",
       "        }    #T_d51e91fc_d4c1_11ea_9898_317dbb54e21crow1_col6 {\n",
       "            background-color:  #f6bea4;\n",
       "            color:  #000000;\n",
       "        }    #T_d51e91fc_d4c1_11ea_9898_317dbb54e21crow1_col7 {\n",
       "            background-color:  #f5c0a7;\n",
       "            color:  #000000;\n",
       "        }    #T_d51e91fc_d4c1_11ea_9898_317dbb54e21crow2_col0 {\n",
       "            background-color:  #4961d2;\n",
       "            color:  #f1f1f1;\n",
       "        }    #T_d51e91fc_d4c1_11ea_9898_317dbb54e21crow2_col1 {\n",
       "            background-color:  #7da0f9;\n",
       "            color:  #000000;\n",
       "        }    #T_d51e91fc_d4c1_11ea_9898_317dbb54e21crow2_col2 {\n",
       "            background-color:  #b40426;\n",
       "            color:  #f1f1f1;\n",
       "        }    #T_d51e91fc_d4c1_11ea_9898_317dbb54e21crow2_col3 {\n",
       "            background-color:  #c43032;\n",
       "            color:  #f1f1f1;\n",
       "        }    #T_d51e91fc_d4c1_11ea_9898_317dbb54e21crow2_col4 {\n",
       "            background-color:  #ebd3c6;\n",
       "            color:  #000000;\n",
       "        }    #T_d51e91fc_d4c1_11ea_9898_317dbb54e21crow2_col5 {\n",
       "            background-color:  #4055c8;\n",
       "            color:  #f1f1f1;\n",
       "        }    #T_d51e91fc_d4c1_11ea_9898_317dbb54e21crow2_col6 {\n",
       "            background-color:  #3f53c6;\n",
       "            color:  #f1f1f1;\n",
       "        }    #T_d51e91fc_d4c1_11ea_9898_317dbb54e21crow2_col7 {\n",
       "            background-color:  #3e51c5;\n",
       "            color:  #f1f1f1;\n",
       "        }    #T_d51e91fc_d4c1_11ea_9898_317dbb54e21crow3_col0 {\n",
       "            background-color:  #536edd;\n",
       "            color:  #000000;\n",
       "        }    #T_d51e91fc_d4c1_11ea_9898_317dbb54e21crow3_col1 {\n",
       "            background-color:  #92b4fe;\n",
       "            color:  #000000;\n",
       "        }    #T_d51e91fc_d4c1_11ea_9898_317dbb54e21crow3_col2 {\n",
       "            background-color:  #c43032;\n",
       "            color:  #f1f1f1;\n",
       "        }    #T_d51e91fc_d4c1_11ea_9898_317dbb54e21crow3_col3 {\n",
       "            background-color:  #b40426;\n",
       "            color:  #f1f1f1;\n",
       "        }    #T_d51e91fc_d4c1_11ea_9898_317dbb54e21crow3_col4 {\n",
       "            background-color:  #f7b79b;\n",
       "            color:  #000000;\n",
       "        }    #T_d51e91fc_d4c1_11ea_9898_317dbb54e21crow3_col5 {\n",
       "            background-color:  #3e51c5;\n",
       "            color:  #f1f1f1;\n",
       "        }    #T_d51e91fc_d4c1_11ea_9898_317dbb54e21crow3_col6 {\n",
       "            background-color:  #3d50c3;\n",
       "            color:  #f1f1f1;\n",
       "        }    #T_d51e91fc_d4c1_11ea_9898_317dbb54e21crow3_col7 {\n",
       "            background-color:  #3c4ec2;\n",
       "            color:  #f1f1f1;\n",
       "        }    #T_d51e91fc_d4c1_11ea_9898_317dbb54e21crow4_col0 {\n",
       "            background-color:  #6f92f3;\n",
       "            color:  #000000;\n",
       "        }    #T_d51e91fc_d4c1_11ea_9898_317dbb54e21crow4_col1 {\n",
       "            background-color:  #ccd9ed;\n",
       "            color:  #000000;\n",
       "        }    #T_d51e91fc_d4c1_11ea_9898_317dbb54e21crow4_col2 {\n",
       "            background-color:  #ead5c9;\n",
       "            color:  #000000;\n",
       "        }    #T_d51e91fc_d4c1_11ea_9898_317dbb54e21crow4_col3 {\n",
       "            background-color:  #f7b89c;\n",
       "            color:  #000000;\n",
       "        }    #T_d51e91fc_d4c1_11ea_9898_317dbb54e21crow4_col4 {\n",
       "            background-color:  #b40426;\n",
       "            color:  #f1f1f1;\n",
       "        }    #T_d51e91fc_d4c1_11ea_9898_317dbb54e21crow4_col5 {\n",
       "            background-color:  #3b4cc0;\n",
       "            color:  #f1f1f1;\n",
       "        }    #T_d51e91fc_d4c1_11ea_9898_317dbb54e21crow4_col6 {\n",
       "            background-color:  #3b4cc0;\n",
       "            color:  #f1f1f1;\n",
       "        }    #T_d51e91fc_d4c1_11ea_9898_317dbb54e21crow4_col7 {\n",
       "            background-color:  #3b4cc0;\n",
       "            color:  #f1f1f1;\n",
       "        }    #T_d51e91fc_d4c1_11ea_9898_317dbb54e21crow5_col0 {\n",
       "            background-color:  #3e51c5;\n",
       "            color:  #f1f1f1;\n",
       "        }    #T_d51e91fc_d4c1_11ea_9898_317dbb54e21crow5_col1 {\n",
       "            background-color:  #f2cbb7;\n",
       "            color:  #000000;\n",
       "        }    #T_d51e91fc_d4c1_11ea_9898_317dbb54e21crow5_col2 {\n",
       "            background-color:  #3b4cc0;\n",
       "            color:  #f1f1f1;\n",
       "        }    #T_d51e91fc_d4c1_11ea_9898_317dbb54e21crow5_col3 {\n",
       "            background-color:  #3b4cc0;\n",
       "            color:  #f1f1f1;\n",
       "        }    #T_d51e91fc_d4c1_11ea_9898_317dbb54e21crow5_col4 {\n",
       "            background-color:  #3b4cc0;\n",
       "            color:  #f1f1f1;\n",
       "        }    #T_d51e91fc_d4c1_11ea_9898_317dbb54e21crow5_col5 {\n",
       "            background-color:  #b40426;\n",
       "            color:  #f1f1f1;\n",
       "        }    #T_d51e91fc_d4c1_11ea_9898_317dbb54e21crow5_col6 {\n",
       "            background-color:  #b70d28;\n",
       "            color:  #f1f1f1;\n",
       "        }    #T_d51e91fc_d4c1_11ea_9898_317dbb54e21crow5_col7 {\n",
       "            background-color:  #d1493f;\n",
       "            color:  #f1f1f1;\n",
       "        }    #T_d51e91fc_d4c1_11ea_9898_317dbb54e21crow6_col0 {\n",
       "            background-color:  #3f53c6;\n",
       "            color:  #f1f1f1;\n",
       "        }    #T_d51e91fc_d4c1_11ea_9898_317dbb54e21crow6_col1 {\n",
       "            background-color:  #f1cdba;\n",
       "            color:  #000000;\n",
       "        }    #T_d51e91fc_d4c1_11ea_9898_317dbb54e21crow6_col2 {\n",
       "            background-color:  #3c4ec2;\n",
       "            color:  #f1f1f1;\n",
       "        }    #T_d51e91fc_d4c1_11ea_9898_317dbb54e21crow6_col3 {\n",
       "            background-color:  #3d50c3;\n",
       "            color:  #f1f1f1;\n",
       "        }    #T_d51e91fc_d4c1_11ea_9898_317dbb54e21crow6_col4 {\n",
       "            background-color:  #3e51c5;\n",
       "            color:  #f1f1f1;\n",
       "        }    #T_d51e91fc_d4c1_11ea_9898_317dbb54e21crow6_col5 {\n",
       "            background-color:  #b70d28;\n",
       "            color:  #f1f1f1;\n",
       "        }    #T_d51e91fc_d4c1_11ea_9898_317dbb54e21crow6_col6 {\n",
       "            background-color:  #b40426;\n",
       "            color:  #f1f1f1;\n",
       "        }    #T_d51e91fc_d4c1_11ea_9898_317dbb54e21crow6_col7 {\n",
       "            background-color:  #d0473d;\n",
       "            color:  #f1f1f1;\n",
       "        }    #T_d51e91fc_d4c1_11ea_9898_317dbb54e21crow7_col0 {\n",
       "            background-color:  #3b4cc0;\n",
       "            color:  #f1f1f1;\n",
       "        }    #T_d51e91fc_d4c1_11ea_9898_317dbb54e21crow7_col1 {\n",
       "            background-color:  #f0cdbb;\n",
       "            color:  #000000;\n",
       "        }    #T_d51e91fc_d4c1_11ea_9898_317dbb54e21crow7_col2 {\n",
       "            background-color:  #3d50c3;\n",
       "            color:  #f1f1f1;\n",
       "        }    #T_d51e91fc_d4c1_11ea_9898_317dbb54e21crow7_col3 {\n",
       "            background-color:  #3e51c5;\n",
       "            color:  #f1f1f1;\n",
       "        }    #T_d51e91fc_d4c1_11ea_9898_317dbb54e21crow7_col4 {\n",
       "            background-color:  #4055c8;\n",
       "            color:  #f1f1f1;\n",
       "        }    #T_d51e91fc_d4c1_11ea_9898_317dbb54e21crow7_col5 {\n",
       "            background-color:  #d1493f;\n",
       "            color:  #f1f1f1;\n",
       "        }    #T_d51e91fc_d4c1_11ea_9898_317dbb54e21crow7_col6 {\n",
       "            background-color:  #cf453c;\n",
       "            color:  #f1f1f1;\n",
       "        }    #T_d51e91fc_d4c1_11ea_9898_317dbb54e21crow7_col7 {\n",
       "            background-color:  #b40426;\n",
       "            color:  #f1f1f1;\n",
       "        }</style><table id=\"T_d51e91fc_d4c1_11ea_9898_317dbb54e21c\" ><thead>    <tr>        <th class=\"blank level0\" ></th>        <th class=\"col_heading level0 col0\" >Hour</th>        <th class=\"col_heading level0 col1\" >HOEP</th>        <th class=\"col_heading level0 col2\" >Hour 1 Predispatch</th>        <th class=\"col_heading level0 col3\" >Hour 2 Predispatch</th>        <th class=\"col_heading level0 col4\" >Hour 3 Predispatch</th>        <th class=\"col_heading level0 col5\" >OR 10 Min Sync</th>        <th class=\"col_heading level0 col6\" >OR 10 Min non-sync</th>        <th class=\"col_heading level0 col7\" >OR 30 Min</th>    </tr></thead><tbody>\n",
       "                <tr>\n",
       "                        <th id=\"T_d51e91fc_d4c1_11ea_9898_317dbb54e21clevel0_row0\" class=\"row_heading level0 row0\" >Hour</th>\n",
       "                        <td id=\"T_d51e91fc_d4c1_11ea_9898_317dbb54e21crow0_col0\" class=\"data row0 col0\" >1</td>\n",
       "                        <td id=\"T_d51e91fc_d4c1_11ea_9898_317dbb54e21crow0_col1\" class=\"data row0 col1\" >0.12</td>\n",
       "                        <td id=\"T_d51e91fc_d4c1_11ea_9898_317dbb54e21crow0_col2\" class=\"data row0 col2\" >0.11</td>\n",
       "                        <td id=\"T_d51e91fc_d4c1_11ea_9898_317dbb54e21crow0_col3\" class=\"data row0 col3\" >0.14</td>\n",
       "                        <td id=\"T_d51e91fc_d4c1_11ea_9898_317dbb54e21crow0_col4\" class=\"data row0 col4\" >0.22</td>\n",
       "                        <td id=\"T_d51e91fc_d4c1_11ea_9898_317dbb54e21crow0_col5\" class=\"data row0 col5\" >0.077</td>\n",
       "                        <td id=\"T_d51e91fc_d4c1_11ea_9898_317dbb54e21crow0_col6\" class=\"data row0 col6\" >0.081</td>\n",
       "                        <td id=\"T_d51e91fc_d4c1_11ea_9898_317dbb54e21crow0_col7\" class=\"data row0 col7\" >0.065</td>\n",
       "            </tr>\n",
       "            <tr>\n",
       "                        <th id=\"T_d51e91fc_d4c1_11ea_9898_317dbb54e21clevel0_row1\" class=\"row_heading level0 row1\" >HOEP</th>\n",
       "                        <td id=\"T_d51e91fc_d4c1_11ea_9898_317dbb54e21crow1_col0\" class=\"data row1 col0\" >0.12</td>\n",
       "                        <td id=\"T_d51e91fc_d4c1_11ea_9898_317dbb54e21crow1_col1\" class=\"data row1 col1\" >1</td>\n",
       "                        <td id=\"T_d51e91fc_d4c1_11ea_9898_317dbb54e21crow1_col2\" class=\"data row1 col2\" >0.3</td>\n",
       "                        <td id=\"T_d51e91fc_d4c1_11ea_9898_317dbb54e21crow1_col3\" class=\"data row1 col3\" >0.35</td>\n",
       "                        <td id=\"T_d51e91fc_d4c1_11ea_9898_317dbb54e21crow1_col4\" class=\"data row1 col4\" >0.51</td>\n",
       "                        <td id=\"T_d51e91fc_d4c1_11ea_9898_317dbb54e21crow1_col5\" class=\"data row1 col5\" >0.65</td>\n",
       "                        <td id=\"T_d51e91fc_d4c1_11ea_9898_317dbb54e21crow1_col6\" class=\"data row1 col6\" >0.64</td>\n",
       "                        <td id=\"T_d51e91fc_d4c1_11ea_9898_317dbb54e21crow1_col7\" class=\"data row1 col7\" >0.64</td>\n",
       "            </tr>\n",
       "            <tr>\n",
       "                        <th id=\"T_d51e91fc_d4c1_11ea_9898_317dbb54e21clevel0_row2\" class=\"row_heading level0 row2\" >Hour 1 Predispatch</th>\n",
       "                        <td id=\"T_d51e91fc_d4c1_11ea_9898_317dbb54e21crow2_col0\" class=\"data row2 col0\" >0.11</td>\n",
       "                        <td id=\"T_d51e91fc_d4c1_11ea_9898_317dbb54e21crow2_col1\" class=\"data row2 col1\" >0.3</td>\n",
       "                        <td id=\"T_d51e91fc_d4c1_11ea_9898_317dbb54e21crow2_col2\" class=\"data row2 col2\" >1</td>\n",
       "                        <td id=\"T_d51e91fc_d4c1_11ea_9898_317dbb54e21crow2_col3\" class=\"data row2 col3\" >0.96</td>\n",
       "                        <td id=\"T_d51e91fc_d4c1_11ea_9898_317dbb54e21crow2_col4\" class=\"data row2 col4\" >0.55</td>\n",
       "                        <td id=\"T_d51e91fc_d4c1_11ea_9898_317dbb54e21crow2_col5\" class=\"data row2 col5\" >0.0023</td>\n",
       "                        <td id=\"T_d51e91fc_d4c1_11ea_9898_317dbb54e21crow2_col6\" class=\"data row2 col6\" >0.007</td>\n",
       "                        <td id=\"T_d51e91fc_d4c1_11ea_9898_317dbb54e21crow2_col7\" class=\"data row2 col7\" >0.012</td>\n",
       "            </tr>\n",
       "            <tr>\n",
       "                        <th id=\"T_d51e91fc_d4c1_11ea_9898_317dbb54e21clevel0_row3\" class=\"row_heading level0 row3\" >Hour 2 Predispatch</th>\n",
       "                        <td id=\"T_d51e91fc_d4c1_11ea_9898_317dbb54e21crow3_col0\" class=\"data row3 col0\" >0.14</td>\n",
       "                        <td id=\"T_d51e91fc_d4c1_11ea_9898_317dbb54e21crow3_col1\" class=\"data row3 col1\" >0.35</td>\n",
       "                        <td id=\"T_d51e91fc_d4c1_11ea_9898_317dbb54e21crow3_col2\" class=\"data row3 col2\" >0.96</td>\n",
       "                        <td id=\"T_d51e91fc_d4c1_11ea_9898_317dbb54e21crow3_col3\" class=\"data row3 col3\" >1</td>\n",
       "                        <td id=\"T_d51e91fc_d4c1_11ea_9898_317dbb54e21crow3_col4\" class=\"data row3 col4\" >0.66</td>\n",
       "                        <td id=\"T_d51e91fc_d4c1_11ea_9898_317dbb54e21crow3_col5\" class=\"data row3 col5\" >-0.0078</td>\n",
       "                        <td id=\"T_d51e91fc_d4c1_11ea_9898_317dbb54e21crow3_col6\" class=\"data row3 col6\" >9.1e-05</td>\n",
       "                        <td id=\"T_d51e91fc_d4c1_11ea_9898_317dbb54e21crow3_col7\" class=\"data row3 col7\" >0.0061</td>\n",
       "            </tr>\n",
       "            <tr>\n",
       "                        <th id=\"T_d51e91fc_d4c1_11ea_9898_317dbb54e21clevel0_row4\" class=\"row_heading level0 row4\" >Hour 3 Predispatch</th>\n",
       "                        <td id=\"T_d51e91fc_d4c1_11ea_9898_317dbb54e21crow4_col0\" class=\"data row4 col0\" >0.22</td>\n",
       "                        <td id=\"T_d51e91fc_d4c1_11ea_9898_317dbb54e21crow4_col1\" class=\"data row4 col1\" >0.51</td>\n",
       "                        <td id=\"T_d51e91fc_d4c1_11ea_9898_317dbb54e21crow4_col2\" class=\"data row4 col2\" >0.55</td>\n",
       "                        <td id=\"T_d51e91fc_d4c1_11ea_9898_317dbb54e21crow4_col3\" class=\"data row4 col3\" >0.66</td>\n",
       "                        <td id=\"T_d51e91fc_d4c1_11ea_9898_317dbb54e21crow4_col4\" class=\"data row4 col4\" >1</td>\n",
       "                        <td id=\"T_d51e91fc_d4c1_11ea_9898_317dbb54e21crow4_col5\" class=\"data row4 col5\" >-0.021</td>\n",
       "                        <td id=\"T_d51e91fc_d4c1_11ea_9898_317dbb54e21crow4_col6\" class=\"data row4 col6\" >-0.0092</td>\n",
       "                        <td id=\"T_d51e91fc_d4c1_11ea_9898_317dbb54e21crow4_col7\" class=\"data row4 col7\" >-0.00031</td>\n",
       "            </tr>\n",
       "            <tr>\n",
       "                        <th id=\"T_d51e91fc_d4c1_11ea_9898_317dbb54e21clevel0_row5\" class=\"row_heading level0 row5\" >OR 10 Min Sync</th>\n",
       "                        <td id=\"T_d51e91fc_d4c1_11ea_9898_317dbb54e21crow5_col0\" class=\"data row5 col0\" >0.077</td>\n",
       "                        <td id=\"T_d51e91fc_d4c1_11ea_9898_317dbb54e21crow5_col1\" class=\"data row5 col1\" >0.65</td>\n",
       "                        <td id=\"T_d51e91fc_d4c1_11ea_9898_317dbb54e21crow5_col2\" class=\"data row5 col2\" >0.0023</td>\n",
       "                        <td id=\"T_d51e91fc_d4c1_11ea_9898_317dbb54e21crow5_col3\" class=\"data row5 col3\" >-0.0078</td>\n",
       "                        <td id=\"T_d51e91fc_d4c1_11ea_9898_317dbb54e21crow5_col4\" class=\"data row5 col4\" >-0.021</td>\n",
       "                        <td id=\"T_d51e91fc_d4c1_11ea_9898_317dbb54e21crow5_col5\" class=\"data row5 col5\" >1</td>\n",
       "                        <td id=\"T_d51e91fc_d4c1_11ea_9898_317dbb54e21crow5_col6\" class=\"data row5 col6\" >0.99</td>\n",
       "                        <td id=\"T_d51e91fc_d4c1_11ea_9898_317dbb54e21crow5_col7\" class=\"data row5 col7\" >0.92</td>\n",
       "            </tr>\n",
       "            <tr>\n",
       "                        <th id=\"T_d51e91fc_d4c1_11ea_9898_317dbb54e21clevel0_row6\" class=\"row_heading level0 row6\" >OR 10 Min non-sync</th>\n",
       "                        <td id=\"T_d51e91fc_d4c1_11ea_9898_317dbb54e21crow6_col0\" class=\"data row6 col0\" >0.081</td>\n",
       "                        <td id=\"T_d51e91fc_d4c1_11ea_9898_317dbb54e21crow6_col1\" class=\"data row6 col1\" >0.64</td>\n",
       "                        <td id=\"T_d51e91fc_d4c1_11ea_9898_317dbb54e21crow6_col2\" class=\"data row6 col2\" >0.007</td>\n",
       "                        <td id=\"T_d51e91fc_d4c1_11ea_9898_317dbb54e21crow6_col3\" class=\"data row6 col3\" >9.1e-05</td>\n",
       "                        <td id=\"T_d51e91fc_d4c1_11ea_9898_317dbb54e21crow6_col4\" class=\"data row6 col4\" >-0.0092</td>\n",
       "                        <td id=\"T_d51e91fc_d4c1_11ea_9898_317dbb54e21crow6_col5\" class=\"data row6 col5\" >0.99</td>\n",
       "                        <td id=\"T_d51e91fc_d4c1_11ea_9898_317dbb54e21crow6_col6\" class=\"data row6 col6\" >1</td>\n",
       "                        <td id=\"T_d51e91fc_d4c1_11ea_9898_317dbb54e21crow6_col7\" class=\"data row6 col7\" >0.92</td>\n",
       "            </tr>\n",
       "            <tr>\n",
       "                        <th id=\"T_d51e91fc_d4c1_11ea_9898_317dbb54e21clevel0_row7\" class=\"row_heading level0 row7\" >OR 30 Min</th>\n",
       "                        <td id=\"T_d51e91fc_d4c1_11ea_9898_317dbb54e21crow7_col0\" class=\"data row7 col0\" >0.065</td>\n",
       "                        <td id=\"T_d51e91fc_d4c1_11ea_9898_317dbb54e21crow7_col1\" class=\"data row7 col1\" >0.64</td>\n",
       "                        <td id=\"T_d51e91fc_d4c1_11ea_9898_317dbb54e21crow7_col2\" class=\"data row7 col2\" >0.012</td>\n",
       "                        <td id=\"T_d51e91fc_d4c1_11ea_9898_317dbb54e21crow7_col3\" class=\"data row7 col3\" >0.0061</td>\n",
       "                        <td id=\"T_d51e91fc_d4c1_11ea_9898_317dbb54e21crow7_col4\" class=\"data row7 col4\" >-0.00031</td>\n",
       "                        <td id=\"T_d51e91fc_d4c1_11ea_9898_317dbb54e21crow7_col5\" class=\"data row7 col5\" >0.92</td>\n",
       "                        <td id=\"T_d51e91fc_d4c1_11ea_9898_317dbb54e21crow7_col6\" class=\"data row7 col6\" >0.92</td>\n",
       "                        <td id=\"T_d51e91fc_d4c1_11ea_9898_317dbb54e21crow7_col7\" class=\"data row7 col7\" >1</td>\n",
       "            </tr>\n",
       "    </tbody></table>"
      ],
      "text/plain": [
       "<pandas.io.formats.style.Styler at 0x7f5d4e1efa90>"
      ]
     },
     "execution_count": 22,
     "metadata": {},
     "output_type": "execute_result"
    }
   ],
   "source": [
    "corr = first[first.columns].corr()\n",
    "corr.style.background_gradient(cmap='coolwarm').set_precision(2)\n"
   ]
  },
  {
   "cell_type": "code",
   "execution_count": 26,
   "metadata": {},
   "outputs": [
    {
     "data": {
      "image/png": "[encoded data removed]",
      "text/plain": [
       "<Figure size 432x288 with 1 Axes>"
      ]
     },
     "metadata": {
      "needs_background": "light"
     },
     "output_type": "display_data"
    }
   ],
   "source": [
    "ax = first.plot.line(x = 'Date', y = 'HOEP', color = 'salmon')"
   ]
  },
  {
   "cell_type": "code",
   "execution_count": 27,
   "metadata": {},
   "outputs": [
    {
     "data": {
      "text/plain": [
       "<matplotlib.axes._subplots.AxesSubplot at 0x7f5d849c7190>"
      ]
     },
     "execution_count": 27,
     "metadata": {},
     "output_type": "execute_result"
    },
    {
     "data": {
      "image/png": "[encoded data removed]",
      "text/plain": [
       "<Figure size 432x288 with 1 Axes>"
      ]
     },
     "metadata": {
      "needs_background": "light"
     },
     "output_type": "display_data"
    }
   ],
   "source": [
    "first.plot.line(x = 'Date', y = 'Hour 1 Predispatch', color = 'lime')"
   ]
  },
  {
   "cell_type": "code",
   "execution_count": 29,
   "metadata": {},
   "outputs": [
    {
     "data": {
      "text/plain": [
       "<matplotlib.axes._subplots.AxesSubplot at 0x7f5d84a278d0>"
      ]
     },
     "execution_count": 29,
     "metadata": {},
     "output_type": "execute_result"
    },
    {
     "data": {
      "image/png": "[encoded data removed]",
      "text/plain": [
       "<Figure size 432x288 with 1 Axes>"
      ]
     },
     "metadata": {
      "needs_background": "light"
     },
     "output_type": "display_data"
    }
   ],
   "source": [
    "first.plot.line(x = 'Date', y = 'OR 10 Min Sync', color = 'lime')"
   ]
  },
  {
   "cell_type": "code",
   "execution_count": null,
   "metadata": {},
   "outputs": [],
   "source": []
  }
 ],
 "metadata": {
  "kernelspec": {
   "display_name": "Python 3",
   "language": "python",
   "name": "python3"
  },
  "language_info": {
   "codemirror_mode": {
    "name": "ipython",
    "version": 3
   },
   "file_extension": ".py",
   "mimetype": "text/x-python",
   "name": "python",
   "nbconvert_exporter": "python",
   "pygments_lexer": "ipython3",
   "version": "3.7.4"
  },
  "toc": {
   "base_numbering": 1,
   "nav_menu": {},
   "number_sections": true,
   "sideBar": true,
   "skip_h1_title": false,
   "title_cell": "Table of Contents",
   "title_sidebar": "Contents",
   "toc_cell": false,
   "toc_position": {},
   "toc_section_display": true,
   "toc_window_display": false
  },
  "varInspector": {
   "cols": {
    "lenName": 16,
    "lenType": 16,
    "lenVar": 40
   },
   "kernels_config": {
    "python": {
     "delete_cmd_postfix": "",
     "delete_cmd_prefix": "del ",
     "library": "var_list.py",
     "varRefreshCmd": "print(var_dic_list())"
    },
    "r": {
     "delete_cmd_postfix": ") ",
     "delete_cmd_prefix": "rm(",
     "library": "var_list.r",
     "varRefreshCmd": "cat(var_dic_list()) "
    }
   },
   "types_to_exclude": [
    "module",
    "function",
    "builtin_function_or_method",
    "instance",
    "_Feature"
   ],
   "window_display": false
  }
 },
 "nbformat": 4,
 "nbformat_minor": 2
}
